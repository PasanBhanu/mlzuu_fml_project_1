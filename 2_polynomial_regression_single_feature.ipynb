{
 "cells": [
  {
   "cell_type": "code",
   "id": "initial_id",
   "metadata": {
    "collapsed": true,
    "ExecuteTime": {
     "end_time": "2025-08-16T03:13:16.702386Z",
     "start_time": "2025-08-16T03:12:38.698875Z"
    }
   },
   "source": [
    "!pip install numpy\n",
    "!pip install matplotlib\n",
    "!pip install pandas"
   ],
   "outputs": [
    {
     "name": "stdout",
     "output_type": "stream",
     "text": [
      "Requirement already satisfied: numpy in c:\\users\\pasan\\appdata\\local\\programs\\python\\python311\\lib\\site-packages (2.3.1)\n"
     ]
    },
    {
     "name": "stderr",
     "output_type": "stream",
     "text": [
      "\n",
      "[notice] A new release of pip is available: 25.1.1 -> 25.2\n",
      "[notice] To update, run: python.exe -m pip install --upgrade pip\n"
     ]
    },
    {
     "name": "stdout",
     "output_type": "stream",
     "text": [
      "Collecting matplotlib\n",
      "  Using cached matplotlib-3.10.5-cp311-cp311-win_amd64.whl.metadata (11 kB)\n",
      "Collecting contourpy>=1.0.1 (from matplotlib)\n",
      "  Using cached contourpy-1.3.3-cp311-cp311-win_amd64.whl.metadata (5.5 kB)\n",
      "Collecting cycler>=0.10 (from matplotlib)\n",
      "  Using cached cycler-0.12.1-py3-none-any.whl.metadata (3.8 kB)\n",
      "Collecting fonttools>=4.22.0 (from matplotlib)\n",
      "  Downloading fonttools-4.59.1-cp311-cp311-win_amd64.whl.metadata (111 kB)\n",
      "Collecting kiwisolver>=1.3.1 (from matplotlib)\n",
      "  Downloading kiwisolver-1.4.9-cp311-cp311-win_amd64.whl.metadata (6.4 kB)\n",
      "Requirement already satisfied: numpy>=1.23 in c:\\users\\pasan\\appdata\\local\\programs\\python\\python311\\lib\\site-packages (from matplotlib) (2.3.1)\n",
      "Requirement already satisfied: packaging>=20.0 in d:\\education\\foundations of machine learning\\assignment 1\\mlzuu_fml_project_1\\.venv\\lib\\site-packages (from matplotlib) (25.0)\n",
      "Collecting pillow>=8 (from matplotlib)\n",
      "  Using cached pillow-11.3.0-cp311-cp311-win_amd64.whl.metadata (9.2 kB)\n",
      "Collecting pyparsing>=2.3.1 (from matplotlib)\n",
      "  Using cached pyparsing-3.2.3-py3-none-any.whl.metadata (5.0 kB)\n",
      "Requirement already satisfied: python-dateutil>=2.7 in d:\\education\\foundations of machine learning\\assignment 1\\mlzuu_fml_project_1\\.venv\\lib\\site-packages (from matplotlib) (2.9.0.post0)\n",
      "Requirement already satisfied: six>=1.5 in d:\\education\\foundations of machine learning\\assignment 1\\mlzuu_fml_project_1\\.venv\\lib\\site-packages (from python-dateutil>=2.7->matplotlib) (1.17.0)\n",
      "Using cached matplotlib-3.10.5-cp311-cp311-win_amd64.whl (8.1 MB)\n",
      "Using cached contourpy-1.3.3-cp311-cp311-win_amd64.whl (225 kB)\n",
      "Using cached cycler-0.12.1-py3-none-any.whl (8.3 kB)\n",
      "Downloading fonttools-4.59.1-cp311-cp311-win_amd64.whl (2.3 MB)\n",
      "   ---------------------------------------- 0.0/2.3 MB ? eta -:--:--\n",
      "   ---------------------------------------- 0.0/2.3 MB ? eta -:--:--\n",
      "   ---------------------------------------- 0.0/2.3 MB ? eta -:--:--\n",
      "   ---------------------------------------- 0.0/2.3 MB ? eta -:--:--\n",
      "   ---------------------------------------- 0.0/2.3 MB ? eta -:--:--\n",
      "   ---- ----------------------------------- 0.3/2.3 MB ? eta -:--:--\n",
      "   ---- ----------------------------------- 0.3/2.3 MB ? eta -:--:--\n",
      "   ---- ----------------------------------- 0.3/2.3 MB ? eta -:--:--\n",
      "   --------- ------------------------------ 0.5/2.3 MB 480.1 kB/s eta 0:00:04\n",
      "   --------- ------------------------------ 0.5/2.3 MB 480.1 kB/s eta 0:00:04\n",
      "   ------------- -------------------------- 0.8/2.3 MB 479.7 kB/s eta 0:00:04\n",
      "   ------------- -------------------------- 0.8/2.3 MB 479.7 kB/s eta 0:00:04\n",
      "   ------------- -------------------------- 0.8/2.3 MB 479.7 kB/s eta 0:00:04\n",
      "   ------------------ --------------------- 1.0/2.3 MB 493.7 kB/s eta 0:00:03\n",
      "   ----------------------- ---------------- 1.3/2.3 MB 545.8 kB/s eta 0:00:02\n",
      "   ----------------------- ---------------- 1.3/2.3 MB 545.8 kB/s eta 0:00:02\n",
      "   --------------------------- ------------ 1.6/2.3 MB 590.9 kB/s eta 0:00:02\n",
      "   -------------------------------- ------- 1.8/2.3 MB 625.4 kB/s eta 0:00:01\n",
      "   -------------------------------- ------- 1.8/2.3 MB 625.4 kB/s eta 0:00:01\n",
      "   ------------------------------------- -- 2.1/2.3 MB 652.6 kB/s eta 0:00:01\n",
      "   ---------------------------------------- 2.3/2.3 MB 637.1 kB/s eta 0:00:00\n",
      "Downloading kiwisolver-1.4.9-cp311-cp311-win_amd64.whl (73 kB)\n",
      "Using cached pillow-11.3.0-cp311-cp311-win_amd64.whl (7.0 MB)\n",
      "Using cached pyparsing-3.2.3-py3-none-any.whl (111 kB)\n",
      "Installing collected packages: pyparsing, pillow, kiwisolver, fonttools, cycler, contourpy, matplotlib\n",
      "\n",
      "   ----- ---------------------------------- 1/7 [pillow]\n",
      "   ----- ---------------------------------- 1/7 [pillow]\n",
      "   ----------------- ---------------------- 3/7 [fonttools]\n",
      "   ----------------- ---------------------- 3/7 [fonttools]\n",
      "   ----------------- ---------------------- 3/7 [fonttools]\n",
      "   ----------------- ---------------------- 3/7 [fonttools]\n",
      "   ----------------- ---------------------- 3/7 [fonttools]\n",
      "   ----------------- ---------------------- 3/7 [fonttools]\n",
      "   ---------------------- ----------------- 4/7 [cycler]\n",
      "   ---------------------------------- ----- 6/7 [matplotlib]\n",
      "   ---------------------------------- ----- 6/7 [matplotlib]\n",
      "   ---------------------------------- ----- 6/7 [matplotlib]\n",
      "   ---------------------------------- ----- 6/7 [matplotlib]\n",
      "   ---------------------------------- ----- 6/7 [matplotlib]\n",
      "   ---------------------------------- ----- 6/7 [matplotlib]\n",
      "   ---------------------------------- ----- 6/7 [matplotlib]\n",
      "   ---------------------------------- ----- 6/7 [matplotlib]\n",
      "   ---------------------------------- ----- 6/7 [matplotlib]\n",
      "   ---------------------------------- ----- 6/7 [matplotlib]\n",
      "   ---------------------------------- ----- 6/7 [matplotlib]\n",
      "   ---------------------------------- ----- 6/7 [matplotlib]\n",
      "   ---------------------------------- ----- 6/7 [matplotlib]\n",
      "   ---------------------------------- ----- 6/7 [matplotlib]\n",
      "   ---------------------------------- ----- 6/7 [matplotlib]\n",
      "   ---------------------------------- ----- 6/7 [matplotlib]\n",
      "   ---------------------------------- ----- 6/7 [matplotlib]\n",
      "   ---------------------------------------- 7/7 [matplotlib]\n",
      "\n",
      "Successfully installed contourpy-1.3.3 cycler-0.12.1 fonttools-4.59.1 kiwisolver-1.4.9 matplotlib-3.10.5 pillow-11.3.0 pyparsing-3.2.3\n"
     ]
    },
    {
     "name": "stderr",
     "output_type": "stream",
     "text": [
      "\n",
      "[notice] A new release of pip is available: 25.1.1 -> 25.2\n",
      "[notice] To update, run: python.exe -m pip install --upgrade pip\n"
     ]
    },
    {
     "name": "stdout",
     "output_type": "stream",
     "text": [
      "Collecting pandas\n",
      "  Using cached pandas-2.3.1-cp311-cp311-win_amd64.whl.metadata (19 kB)\n",
      "Requirement already satisfied: numpy>=1.23.2 in c:\\users\\pasan\\appdata\\local\\programs\\python\\python311\\lib\\site-packages (from pandas) (2.3.1)\n",
      "Requirement already satisfied: python-dateutil>=2.8.2 in d:\\education\\foundations of machine learning\\assignment 1\\mlzuu_fml_project_1\\.venv\\lib\\site-packages (from pandas) (2.9.0.post0)\n",
      "Collecting pytz>=2020.1 (from pandas)\n",
      "  Using cached pytz-2025.2-py2.py3-none-any.whl.metadata (22 kB)\n",
      "Collecting tzdata>=2022.7 (from pandas)\n",
      "  Using cached tzdata-2025.2-py2.py3-none-any.whl.metadata (1.4 kB)\n",
      "Requirement already satisfied: six>=1.5 in d:\\education\\foundations of machine learning\\assignment 1\\mlzuu_fml_project_1\\.venv\\lib\\site-packages (from python-dateutil>=2.8.2->pandas) (1.17.0)\n",
      "Using cached pandas-2.3.1-cp311-cp311-win_amd64.whl (11.3 MB)\n",
      "Using cached pytz-2025.2-py2.py3-none-any.whl (509 kB)\n",
      "Using cached tzdata-2025.2-py2.py3-none-any.whl (347 kB)\n",
      "Installing collected packages: pytz, tzdata, pandas\n",
      "\n",
      "   ---------------------------------------- 0/3 [pytz]\n",
      "   ------------- -------------------------- 1/3 [tzdata]\n",
      "   ------------- -------------------------- 1/3 [tzdata]\n",
      "   -------------------------- ------------- 2/3 [pandas]\n",
      "   -------------------------- ------------- 2/3 [pandas]\n",
      "   -------------------------- ------------- 2/3 [pandas]\n",
      "   -------------------------- ------------- 2/3 [pandas]\n",
      "   -------------------------- ------------- 2/3 [pandas]\n",
      "   -------------------------- ------------- 2/3 [pandas]\n",
      "   -------------------------- ------------- 2/3 [pandas]\n",
      "   -------------------------- ------------- 2/3 [pandas]\n",
      "   -------------------------- ------------- 2/3 [pandas]\n",
      "   -------------------------- ------------- 2/3 [pandas]\n",
      "   -------------------------- ------------- 2/3 [pandas]\n",
      "   -------------------------- ------------- 2/3 [pandas]\n",
      "   -------------------------- ------------- 2/3 [pandas]\n",
      "   -------------------------- ------------- 2/3 [pandas]\n",
      "   -------------------------- ------------- 2/3 [pandas]\n",
      "   -------------------------- ------------- 2/3 [pandas]\n",
      "   -------------------------- ------------- 2/3 [pandas]\n",
      "   -------------------------- ------------- 2/3 [pandas]\n",
      "   -------------------------- ------------- 2/3 [pandas]\n",
      "   -------------------------- ------------- 2/3 [pandas]\n",
      "   -------------------------- ------------- 2/3 [pandas]\n",
      "   -------------------------- ------------- 2/3 [pandas]\n",
      "   -------------------------- ------------- 2/3 [pandas]\n",
      "   -------------------------- ------------- 2/3 [pandas]\n",
      "   -------------------------- ------------- 2/3 [pandas]\n",
      "   -------------------------- ------------- 2/3 [pandas]\n",
      "   -------------------------- ------------- 2/3 [pandas]\n",
      "   -------------------------- ------------- 2/3 [pandas]\n",
      "   -------------------------- ------------- 2/3 [pandas]\n",
      "   -------------------------- ------------- 2/3 [pandas]\n",
      "   -------------------------- ------------- 2/3 [pandas]\n",
      "   -------------------------- ------------- 2/3 [pandas]\n",
      "   -------------------------- ------------- 2/3 [pandas]\n",
      "   -------------------------- ------------- 2/3 [pandas]\n",
      "   -------------------------- ------------- 2/3 [pandas]\n",
      "   -------------------------- ------------- 2/3 [pandas]\n",
      "   -------------------------- ------------- 2/3 [pandas]\n",
      "   -------------------------- ------------- 2/3 [pandas]\n",
      "   -------------------------- ------------- 2/3 [pandas]\n",
      "   -------------------------- ------------- 2/3 [pandas]\n",
      "   -------------------------- ------------- 2/3 [pandas]\n",
      "   -------------------------- ------------- 2/3 [pandas]\n",
      "   -------------------------- ------------- 2/3 [pandas]\n",
      "   -------------------------- ------------- 2/3 [pandas]\n",
      "   -------------------------- ------------- 2/3 [pandas]\n",
      "   -------------------------- ------------- 2/3 [pandas]\n",
      "   -------------------------- ------------- 2/3 [pandas]\n",
      "   -------------------------- ------------- 2/3 [pandas]\n",
      "   -------------------------- ------------- 2/3 [pandas]\n",
      "   -------------------------- ------------- 2/3 [pandas]\n",
      "   ---------------------------------------- 3/3 [pandas]\n",
      "\n",
      "Successfully installed pandas-2.3.1 pytz-2025.2 tzdata-2025.2\n"
     ]
    },
    {
     "name": "stderr",
     "output_type": "stream",
     "text": [
      "\n",
      "[notice] A new release of pip is available: 25.1.1 -> 25.2\n",
      "[notice] To update, run: python.exe -m pip install --upgrade pip\n"
     ]
    }
   ],
   "execution_count": 1
  },
  {
   "metadata": {
    "ExecuteTime": {
     "end_time": "2025-08-16T03:13:18.977354Z",
     "start_time": "2025-08-16T03:13:17.269730Z"
    }
   },
   "cell_type": "code",
   "source": [
    "import pandas as pd\n",
    "import numpy as np\n",
    "import matplotlib.pyplot as plt"
   ],
   "id": "7b43f88486b87211",
   "outputs": [],
   "execution_count": 2
  },
  {
   "metadata": {},
   "cell_type": "markdown",
   "source": [
    "### Load CSV\n",
    "\n",
    "- Load the CSV file containing the scores data\n",
    "- Filter the data to include only the \"Foundations of ML\" course"
   ],
   "id": "a2d03977a5445a5"
  },
  {
   "metadata": {
    "ExecuteTime": {
     "end_time": "2025-08-16T03:13:19.035846Z",
     "start_time": "2025-08-16T03:13:19.007159Z"
    }
   },
   "cell_type": "code",
   "source": [
    "df = pd.read_csv('data/raw/scores.csv')\n",
    "df = df[df['CourseName'] == 'Foundations of ML']\n",
    "df.head()"
   ],
   "id": "2c09fe223d84921a",
   "outputs": [
    {
     "data": {
      "text/plain": [
       "                       MemberName  EducationLevel  Attendance  TotalHours  \\\n",
       "0           Theekshana Rathnayake               3        79.9        43.7   \n",
       "1  Mayura Sandakalum Sellapperuma               2        76.8        95.6   \n",
       "2                 Amila Narangoda               3        96.6        75.9   \n",
       "4                Tharusha Vihanga               2        83.2        24.0   \n",
       "7                  Chamath Perera               3        86.5        88.0   \n",
       "\n",
       "   AssignmentsCompleted  HackathonParticipation  GitHubScore  PeerReviewScore  \\\n",
       "0                     2                       0         62.8              5.0   \n",
       "1                     6                       0         87.4              2.7   \n",
       "2                     8                       0         98.4              2.8   \n",
       "4                     6                       0         41.8              4.2   \n",
       "7                     5                       0         23.9              1.3   \n",
       "\n",
       "          CourseName  CapstoneScore  \n",
       "0  Foundations of ML           45.3  \n",
       "1  Foundations of ML           78.8  \n",
       "2  Foundations of ML           65.4  \n",
       "4  Foundations of ML           40.1  \n",
       "7  Foundations of ML           68.2  "
      ],
      "text/html": [
       "<div>\n",
       "<style scoped>\n",
       "    .dataframe tbody tr th:only-of-type {\n",
       "        vertical-align: middle;\n",
       "    }\n",
       "\n",
       "    .dataframe tbody tr th {\n",
       "        vertical-align: top;\n",
       "    }\n",
       "\n",
       "    .dataframe thead th {\n",
       "        text-align: right;\n",
       "    }\n",
       "</style>\n",
       "<table border=\"1\" class=\"dataframe\">\n",
       "  <thead>\n",
       "    <tr style=\"text-align: right;\">\n",
       "      <th></th>\n",
       "      <th>MemberName</th>\n",
       "      <th>EducationLevel</th>\n",
       "      <th>Attendance</th>\n",
       "      <th>TotalHours</th>\n",
       "      <th>AssignmentsCompleted</th>\n",
       "      <th>HackathonParticipation</th>\n",
       "      <th>GitHubScore</th>\n",
       "      <th>PeerReviewScore</th>\n",
       "      <th>CourseName</th>\n",
       "      <th>CapstoneScore</th>\n",
       "    </tr>\n",
       "  </thead>\n",
       "  <tbody>\n",
       "    <tr>\n",
       "      <th>0</th>\n",
       "      <td>Theekshana Rathnayake</td>\n",
       "      <td>3</td>\n",
       "      <td>79.9</td>\n",
       "      <td>43.7</td>\n",
       "      <td>2</td>\n",
       "      <td>0</td>\n",
       "      <td>62.8</td>\n",
       "      <td>5.0</td>\n",
       "      <td>Foundations of ML</td>\n",
       "      <td>45.3</td>\n",
       "    </tr>\n",
       "    <tr>\n",
       "      <th>1</th>\n",
       "      <td>Mayura Sandakalum Sellapperuma</td>\n",
       "      <td>2</td>\n",
       "      <td>76.8</td>\n",
       "      <td>95.6</td>\n",
       "      <td>6</td>\n",
       "      <td>0</td>\n",
       "      <td>87.4</td>\n",
       "      <td>2.7</td>\n",
       "      <td>Foundations of ML</td>\n",
       "      <td>78.8</td>\n",
       "    </tr>\n",
       "    <tr>\n",
       "      <th>2</th>\n",
       "      <td>Amila Narangoda</td>\n",
       "      <td>3</td>\n",
       "      <td>96.6</td>\n",
       "      <td>75.9</td>\n",
       "      <td>8</td>\n",
       "      <td>0</td>\n",
       "      <td>98.4</td>\n",
       "      <td>2.8</td>\n",
       "      <td>Foundations of ML</td>\n",
       "      <td>65.4</td>\n",
       "    </tr>\n",
       "    <tr>\n",
       "      <th>4</th>\n",
       "      <td>Tharusha Vihanga</td>\n",
       "      <td>2</td>\n",
       "      <td>83.2</td>\n",
       "      <td>24.0</td>\n",
       "      <td>6</td>\n",
       "      <td>0</td>\n",
       "      <td>41.8</td>\n",
       "      <td>4.2</td>\n",
       "      <td>Foundations of ML</td>\n",
       "      <td>40.1</td>\n",
       "    </tr>\n",
       "    <tr>\n",
       "      <th>7</th>\n",
       "      <td>Chamath Perera</td>\n",
       "      <td>3</td>\n",
       "      <td>86.5</td>\n",
       "      <td>88.0</td>\n",
       "      <td>5</td>\n",
       "      <td>0</td>\n",
       "      <td>23.9</td>\n",
       "      <td>1.3</td>\n",
       "      <td>Foundations of ML</td>\n",
       "      <td>68.2</td>\n",
       "    </tr>\n",
       "  </tbody>\n",
       "</table>\n",
       "</div>"
      ]
     },
     "execution_count": 3,
     "metadata": {},
     "output_type": "execute_result"
    }
   ],
   "execution_count": 3
  },
  {
   "metadata": {},
   "cell_type": "markdown",
   "source": [
    "### Data Exploration\n",
    "\n",
    "- Load X as 'Attendance' and Y as 'CapstoneScore'\n",
    "- Plot X vs Y"
   ],
   "id": "222422a04dbdc13d"
  },
  {
   "metadata": {
    "ExecuteTime": {
     "end_time": "2025-08-16T03:13:19.132587Z",
     "start_time": "2025-08-16T03:13:19.128833Z"
    }
   },
   "cell_type": "code",
   "source": [
    "X = df['Attendance'].values\n",
    "Y = df['CapstoneScore'].values"
   ],
   "id": "8cd2a5936969588c",
   "outputs": [],
   "execution_count": 4
  },
  {
   "metadata": {
    "ExecuteTime": {
     "end_time": "2025-08-16T03:13:19.418333Z",
     "start_time": "2025-08-16T03:13:19.236711Z"
    }
   },
   "cell_type": "code",
   "source": [
    "plt.figure(figsize=(10,6))\n",
    "plt.scatter(X, Y, alpha=0.7, color='blue', s=50)\n",
    "plt.xlabel('Total Hours')\n",
    "plt.ylabel('Capstone Score')\n",
    "plt.title('X vs Y')\n",
    "plt.show()"
   ],
   "id": "5dbeefc44499d3dd",
   "outputs": [
    {
     "data": {
      "text/plain": [
       "<Figure size 1000x600 with 1 Axes>"
      ],
      "image/png": "[encoded data removed]"
     },
     "metadata": {},
     "output_type": "display_data"
    }
   ],
   "execution_count": 5
  },
  {
   "metadata": {},
   "cell_type": "markdown",
   "source": [
    "### Data Preparation\n",
    "\n",
    "- Check for missing values"
   ],
   "id": "7704493c10c893b0"
  },
  {
   "metadata": {
    "ExecuteTime": {
     "end_time": "2025-08-16T03:13:19.469352Z",
     "start_time": "2025-08-16T03:13:19.464898Z"
    }
   },
   "cell_type": "code",
   "source": [
    "missing_values_attendance = df['Attendance'].isnull().sum()\n",
    "missing_values_capstone_score = df['CapstoneScore'].isnull().sum()\n",
    "\n",
    "print(f'Missing values in Attendance: {missing_values_attendance}')\n",
    "print(f'Missing values in CapstoneScore: {missing_values_capstone_score}')"
   ],
   "id": "de5e62982663f674",
   "outputs": [
    {
     "name": "stdout",
     "output_type": "stream",
     "text": [
      "Missing values in Attendance: 0\n",
      "Missing values in CapstoneScore: 0\n"
     ]
    }
   ],
   "execution_count": 6
  },
  {
   "metadata": {},
   "cell_type": "markdown",
   "source": "Since there are no missing values, we can proceed with the analysis.",
   "id": "8d95fb90184970ca"
  },
  {
   "metadata": {},
   "cell_type": "markdown",
   "source": [
    "### Util functions\n",
    "\n",
    "- format_value_for_printing: Format values for better readability"
   ],
   "id": "32c369aed6ce2dc3"
  },
  {
   "metadata": {
    "ExecuteTime": {
     "end_time": "2025-08-16T03:13:19.522246Z",
     "start_time": "2025-08-16T03:13:19.518520Z"
    }
   },
   "cell_type": "code",
   "source": [
    "def format_value_for_printing(value):\n",
    "    if np.isinf(value):\n",
    "        return \"∞\"\n",
    "    elif np.isnan(value):\n",
    "        return \"NaN\"\n",
    "    elif value > 1e6:\n",
    "        return f\"{value:.2e}\"\n",
    "    elif value < 1e6:\n",
    "        return f\"{value:.2e}\"\n",
    "    elif value > 1000:\n",
    "        return f\"{value:.1f}\"\n",
    "    else:\n",
    "        return f\"{value:.4f}\""
   ],
   "id": "620b38ef355aa051",
   "outputs": [],
   "execution_count": 7
  },
  {
   "metadata": {},
   "cell_type": "markdown",
   "source": [
    "### Analyzing Functions\n",
    "\n",
    "- create_polynomial_features: Create polynomial features to specified degree\n",
    "- fit_polynomial: Fit a polynomial regression model"
   ],
   "id": "75b245620e9f1676"
  },
  {
   "metadata": {
    "ExecuteTime": {
     "end_time": "2025-08-16T03:13:19.561249Z",
     "start_time": "2025-08-16T03:13:19.557915Z"
    }
   },
   "cell_type": "code",
   "source": [
    "# Constants\n",
    "CONVERGENCE_THRESHOLD = 0.00001"
   ],
   "id": "58f24458819c511d",
   "outputs": [],
   "execution_count": 8
  },
  {
   "metadata": {
    "ExecuteTime": {
     "end_time": "2025-08-16T03:13:19.591174Z",
     "start_time": "2025-08-16T03:13:19.583608Z"
    }
   },
   "cell_type": "code",
   "source": [
    "def create_polynomial_features(X, degree):\n",
    "    return np.array([X**i for i in range(degree + 1)]).T\n",
    "\n",
    "def fit_polynomial(X, Y, degree, learning_rate):\n",
    "    num_iterations = 1000\n",
    "    cost_history = []\n",
    "    converged = False\n",
    "\n",
    "    X_poly = create_polynomial_features(X, degree)\n",
    "    beta = np.zeros(degree + 1)\n",
    "    m = len(Y)\n",
    "\n",
    "    for i in range(num_iterations):\n",
    "        predictions = X_poly.dot(beta)\n",
    "        cost = (1 / (2 * m)) * np.sum((predictions - Y) ** 2)\n",
    "        cost_history.append(cost)\n",
    "\n",
    "        gradients = (1 / m) * X_poly.T.dot(predictions - Y)\n",
    "        beta = beta - learning_rate * gradients\n",
    "\n",
    "        if i % 100 == 0:\n",
    "            print(f\"Iteration {i}: Cost = {format_value_for_printing(cost)}\")\n",
    "\n",
    "        # Check for convergence\n",
    "        if i > 10:\n",
    "            change = abs(cost_history[-1] - cost_history[-10])\n",
    "            if change < CONVERGENCE_THRESHOLD:\n",
    "                print(f\"Converged at {i}\")\n",
    "                converged = True\n",
    "                break\n",
    "\n",
    "        # Check for non convergence\n",
    "        if np.isinf(cost):\n",
    "            print(\"Cost diverged. Exiting...\")\n",
    "            break\n",
    "\n",
    "    return beta, cost_history, converged\n",
    "\n",
    "def predict_polynomial(X, beta, degree):\n",
    "    X_poly = create_polynomial_features(X, degree)\n",
    "    predictions = X_poly.dot(beta)\n",
    "    return predictions"
   ],
   "id": "66e1a6d5d31ff39",
   "outputs": [],
   "execution_count": 9
  },
  {
   "metadata": {},
   "cell_type": "markdown",
   "source": "### Check different degrees",
   "id": "2a2929f60ea369de"
  },
  {
   "metadata": {
    "ExecuteTime": {
     "end_time": "2025-08-16T03:13:19.634602Z",
     "start_time": "2025-08-16T03:13:19.622222Z"
    }
   },
   "cell_type": "code",
   "source": [
    "model_1 = fit_polynomial(X, Y, degree=1, learning_rate=0.001)\n",
    "model_2 = fit_polynomial(X, Y, degree=2, learning_rate=0.001)\n",
    "model_3 = fit_polynomial(X, Y, degree=3, learning_rate=0.001)"
   ],
   "id": "f11357e02fc0dc9d",
   "outputs": [
    {
     "name": "stdout",
     "output_type": "stream",
     "text": [
      "Iteration 0: Cost = 1.66e+03\n",
      "Iteration 100: Cost = 5.20e+148\n",
      "Iteration 200: Cost = 1.81e+294\n",
      "Cost diverged. Exiting...\n",
      "Iteration 0: Cost = 1.66e+03\n",
      "Cost diverged. Exiting...\n",
      "Iteration 0: Cost = 1.66e+03\n",
      "Cost diverged. Exiting...\n"
     ]
    },
    {
     "name": "stderr",
     "output_type": "stream",
     "text": [
      "C:\\Users\\pasan\\AppData\\Local\\Programs\\Python\\Python311\\Lib\\site-packages\\numpy\\_core\\fromnumeric.py:86: RuntimeWarning: overflow encountered in reduce\n",
      "  return ufunc.reduce(obj, axis, dtype, out, **passkwargs)\n",
      "C:\\Users\\pasan\\AppData\\Local\\Temp\\ipykernel_23260\\4157401009.py:15: RuntimeWarning: overflow encountered in square\n",
      "  cost = (1 / (2 * m)) * np.sum((predictions - Y) ** 2)\n"
     ]
    }
   ],
   "execution_count": 10
  },
  {
   "metadata": {},
   "cell_type": "markdown",
   "source": "### Visualize results",
   "id": "4092787182e595e1"
  },
  {
   "metadata": {
    "ExecuteTime": {
     "end_time": "2025-08-16T03:13:20.434973Z",
     "start_time": "2025-08-16T03:13:19.662935Z"
    }
   },
   "cell_type": "code",
   "source": [
    "fig, axes = plt.subplots(2, 3, figsize=(16, 8))\n",
    "\n",
    "x_min, x_max = float(np.min(X)), float(np.max(X))\n",
    "x_interval = np.linspace(x_min, x_max, 100)\n",
    "\n",
    "ax = axes[0, 0]\n",
    "ax.plot(model_1[1], label='Degree 1')\n",
    "ax.set_title('Cost Variation (Degree 1)')\n",
    "ax.set_xlabel('Iterations')\n",
    "ax.set_ylabel('Cost')\n",
    "\n",
    "ax = axes[0, 1]\n",
    "ax.plot(model_2[1], label='Degree 2')\n",
    "ax.set_title('Cost Variation (Degree 2)')\n",
    "ax.set_xlabel('Iterations')\n",
    "ax.set_ylabel('Cost')\n",
    "\n",
    "ax = axes[0, 2]\n",
    "ax.plot(model_3[1], label='Degree 3')\n",
    "ax.set_title('Cost Variation (Degree 3)')\n",
    "ax.set_xlabel('Iterations')\n",
    "ax.set_ylabel('Cost')\n",
    "\n",
    "ax = axes[1, 0]\n",
    "ax.scatter(X, Y, s=50, alpha=0.7, label=\"Actual data\")\n",
    "X_plot = np.linspace(X.min(), X.max(), 100).reshape(-1, 1)\n",
    "y_plot = predict_polynomial(X_plot, model_1[0], 1).flatten()\n",
    "ax.plot(X_plot, y_plot, 'r--', label='fitted line')\n",
    "ax.set_xlabel('X')\n",
    "ax.set_ylabel('y')\n",
    "ax.set_title('Fitting Line (Degree 1)')\n",
    "\n",
    "ax = axes[1, 1]\n",
    "ax.scatter(X, Y, s=50, alpha=0.7, label=\"Actual data\")\n",
    "y_plot = predict_polynomial(X_plot, model_2[0], 2).flatten()\n",
    "ax.plot(X_plot, y_plot, 'r--', label='fitted line')\n",
    "ax.set_xlabel('X')\n",
    "ax.set_ylabel('y')\n",
    "ax.set_title('Fitting Line (Degree 2)')\n",
    "\n",
    "ax = axes[1, 2]\n",
    "ax.scatter(X, Y, s=50, alpha=0.7, label=\"Actual data\")\n",
    "y_plot = predict_polynomial(X_plot, model_3[0], 3).flatten()\n",
    "ax.plot(X_plot, y_plot, 'r--', label='fitted line')\n",
    "ax.set_xlabel('X')\n",
    "ax.set_ylabel('y')\n",
    "ax.set_title('Fitting Line (Degree 3)')\n",
    "\n",
    "plt.subplots_adjust(\n",
    "    hspace=0.4,\n",
    "    wspace=0.3\n",
    ")\n",
    "plt.show()"
   ],
   "id": "e9bde978887e16c8",
   "outputs": [
    {
     "data": {
      "text/plain": [
       "<Figure size 1600x800 with 6 Axes>"
      ],
      "image/png": "[encoded data removed]"
     },
     "metadata": {},
     "output_type": "display_data"
    }
   ],
   "execution_count": 11
  },
  {
   "metadata": {},
   "cell_type": "markdown",
   "source": "### Evaluation results",
   "id": "f2789441d790c510"
  },
  {
   "metadata": {
    "ExecuteTime": {
     "end_time": "2025-08-16T03:13:20.471156Z",
     "start_time": "2025-08-16T03:13:20.464959Z"
    }
   },
   "cell_type": "code",
   "source": [
    "def calculate_evaluation_metrics(X, Y, beta, degree):\n",
    "    y_hat = predict_polynomial(X, beta, degree)\n",
    "    residuals = Y - y_hat\n",
    "    mse = np.mean(residuals ** 2)\n",
    "    mae = np.mean(abs(residuals))\n",
    "    rmse = np.sqrt(mse)\n",
    "    r_squared = 1 - (np.sum(residuals ** 2) / np.sum((Y - np.mean(Y)) ** 2))\n",
    "\n",
    "    return mse, mae, rmse, r_squared"
   ],
   "id": "1b10b1042bf60b27",
   "outputs": [],
   "execution_count": 12
  },
  {
   "metadata": {
    "ExecuteTime": {
     "end_time": "2025-08-16T03:13:39.240942Z",
     "start_time": "2025-08-16T03:13:39.234197Z"
    }
   },
   "cell_type": "code",
   "source": [
    "print(\"\\n\" + \"=\"*70)\n",
    "print(\"EVALUATION SUMMARY\")\n",
    "print(\"=\"*70)\n",
    "print(f\"{'Degree':<15} {'MSE':<12} {'MAE':<12} {'RMSE':<12} {'R²':<12}\")\n",
    "print(\"-\"*70)\n",
    "\n",
    "for i in range (1, 4):\n",
    "    beta = eval(f'model_{i}')[0]\n",
    "    mse, mae, rmse, r_squared = calculate_evaluation_metrics(X, Y, beta, i)\n",
    "    print(f\"{i:<15} {format_value_for_printing(mse):<12} {format_value_for_printing(mae):<12} {format_value_for_printing(rmse):<12} {format_value_for_printing(r_squared):<12}\")"
   ],
   "id": "5568a9b928d31489",
   "outputs": [
    {
     "name": "stdout",
     "output_type": "stream",
     "text": [
      "\n",
      "======================================================================\n",
      "EVALUATION SUMMARY\n",
      "======================================================================\n",
      "Degree          MSE          MAE          RMSE         R²          \n",
      "----------------------------------------------------------------------\n",
      "1               ∞            3.56e+154    ∞            ∞           \n",
      "2               ∞            2.45e+159    ∞            ∞           \n",
      "3               ∞            1.64e+163    ∞            ∞           \n"
     ]
    },
    {
     "name": "stderr",
     "output_type": "stream",
     "text": [
      "C:\\Users\\pasan\\AppData\\Local\\Temp\\ipykernel_23260\\3820400301.py:4: RuntimeWarning: overflow encountered in square\n",
      "  mse = np.mean(residuals ** 2)\n",
      "C:\\Users\\pasan\\AppData\\Local\\Temp\\ipykernel_23260\\3820400301.py:7: RuntimeWarning: overflow encountered in square\n",
      "  r_squared = 1 - (np.sum(residuals ** 2) / np.sum((Y - np.mean(Y)) ** 2))\n"
     ]
    }
   ],
   "execution_count": 14
  }
 ],
 "metadata": {
  "kernelspec": {
   "display_name": "Python 3",
   "language": "python",
   "name": "python3"
  },
  "language_info": {
   "codemirror_mode": {
    "name": "ipython",
    "version": 2
   },
   "file_extension": ".py",
   "mimetype": "text/x-python",
   "name": "python",
   "nbconvert_exporter": "python",
   "pygments_lexer": "ipython2",
   "version": "2.7.6"
  }
 },
 "nbformat": 4,
 "nbformat_minor": 5
}
