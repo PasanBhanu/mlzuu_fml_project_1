{
 "cells": [
  {
   "cell_type": "code",
   "id": "initial_id",
   "metadata": {
    "collapsed": true,
    "ExecuteTime": {
     "end_time": "2025-08-16T13:03:51.508829Z",
     "start_time": "2025-08-16T13:03:47.555400Z"
    }
   },
   "source": [
    "!pip install numpy\n",
    "!pip install matplotlib\n",
    "!pip install pandas"
   ],
   "outputs": [
    {
     "name": "stdout",
     "output_type": "stream",
     "text": [
      "Requirement already satisfied: numpy in c:\\users\\pasan\\appdata\\local\\programs\\python\\python311\\lib\\site-packages (2.3.1)\n"
     ]
    },
    {
     "name": "stderr",
     "output_type": "stream",
     "text": [
      "\n",
      "[notice] A new release of pip is available: 25.1.1 -> 25.2\n",
      "[notice] To update, run: python.exe -m pip install --upgrade pip\n"
     ]
    },
    {
     "name": "stdout",
     "output_type": "stream",
     "text": [
      "Requirement already satisfied: matplotlib in d:\\education\\foundations of machine learning\\assignment 1\\mlzuu_fml_project_1\\.venv\\lib\\site-packages (3.10.5)\n",
      "Requirement already satisfied: contourpy>=1.0.1 in d:\\education\\foundations of machine learning\\assignment 1\\mlzuu_fml_project_1\\.venv\\lib\\site-packages (from matplotlib) (1.3.3)\n",
      "Requirement already satisfied: cycler>=0.10 in d:\\education\\foundations of machine learning\\assignment 1\\mlzuu_fml_project_1\\.venv\\lib\\site-packages (from matplotlib) (0.12.1)\n",
      "Requirement already satisfied: fonttools>=4.22.0 in d:\\education\\foundations of machine learning\\assignment 1\\mlzuu_fml_project_1\\.venv\\lib\\site-packages (from matplotlib) (4.59.1)\n",
      "Requirement already satisfied: kiwisolver>=1.3.1 in d:\\education\\foundations of machine learning\\assignment 1\\mlzuu_fml_project_1\\.venv\\lib\\site-packages (from matplotlib) (1.4.9)\n",
      "Requirement already satisfied: numpy>=1.23 in c:\\users\\pasan\\appdata\\local\\programs\\python\\python311\\lib\\site-packages (from matplotlib) (2.3.1)\n",
      "Requirement already satisfied: packaging>=20.0 in d:\\education\\foundations of machine learning\\assignment 1\\mlzuu_fml_project_1\\.venv\\lib\\site-packages (from matplotlib) (25.0)\n",
      "Requirement already satisfied: pillow>=8 in d:\\education\\foundations of machine learning\\assignment 1\\mlzuu_fml_project_1\\.venv\\lib\\site-packages (from matplotlib) (11.3.0)\n",
      "Requirement already satisfied: pyparsing>=2.3.1 in d:\\education\\foundations of machine learning\\assignment 1\\mlzuu_fml_project_1\\.venv\\lib\\site-packages (from matplotlib) (3.2.3)\n",
      "Requirement already satisfied: python-dateutil>=2.7 in d:\\education\\foundations of machine learning\\assignment 1\\mlzuu_fml_project_1\\.venv\\lib\\site-packages (from matplotlib) (2.9.0.post0)\n",
      "Requirement already satisfied: six>=1.5 in d:\\education\\foundations of machine learning\\assignment 1\\mlzuu_fml_project_1\\.venv\\lib\\site-packages (from python-dateutil>=2.7->matplotlib) (1.17.0)\n"
     ]
    },
    {
     "name": "stderr",
     "output_type": "stream",
     "text": [
      "\n",
      "[notice] A new release of pip is available: 25.1.1 -> 25.2\n",
      "[notice] To update, run: python.exe -m pip install --upgrade pip\n"
     ]
    },
    {
     "name": "stdout",
     "output_type": "stream",
     "text": [
      "Requirement already satisfied: pandas in d:\\education\\foundations of machine learning\\assignment 1\\mlzuu_fml_project_1\\.venv\\lib\\site-packages (2.3.1)\n",
      "Requirement already satisfied: numpy>=1.23.2 in c:\\users\\pasan\\appdata\\local\\programs\\python\\python311\\lib\\site-packages (from pandas) (2.3.1)\n",
      "Requirement already satisfied: python-dateutil>=2.8.2 in d:\\education\\foundations of machine learning\\assignment 1\\mlzuu_fml_project_1\\.venv\\lib\\site-packages (from pandas) (2.9.0.post0)\n",
      "Requirement already satisfied: pytz>=2020.1 in d:\\education\\foundations of machine learning\\assignment 1\\mlzuu_fml_project_1\\.venv\\lib\\site-packages (from pandas) (2025.2)\n",
      "Requirement already satisfied: tzdata>=2022.7 in d:\\education\\foundations of machine learning\\assignment 1\\mlzuu_fml_project_1\\.venv\\lib\\site-packages (from pandas) (2025.2)\n",
      "Requirement already satisfied: six>=1.5 in d:\\education\\foundations of machine learning\\assignment 1\\mlzuu_fml_project_1\\.venv\\lib\\site-packages (from python-dateutil>=2.8.2->pandas) (1.17.0)\n"
     ]
    },
    {
     "name": "stderr",
     "output_type": "stream",
     "text": [
      "\n",
      "[notice] A new release of pip is available: 25.1.1 -> 25.2\n",
      "[notice] To update, run: python.exe -m pip install --upgrade pip\n"
     ]
    }
   ],
   "execution_count": 1
  },
  {
   "metadata": {
    "ExecuteTime": {
     "end_time": "2025-08-16T13:03:52.364223Z",
     "start_time": "2025-08-16T13:03:51.716230Z"
    }
   },
   "cell_type": "code",
   "source": [
    "import pandas as pd\n",
    "import numpy as np\n",
    "import matplotlib.pyplot as plt"
   ],
   "id": "3504df5b7e97bf2a",
   "outputs": [],
   "execution_count": 2
  },
  {
   "metadata": {},
   "cell_type": "markdown",
   "source": [
    "### Load CSV\n",
    "\n",
    "- Load the CSV file containing the scores data\n",
    "- Filter the data to include only the \"Foundations of ML\" course"
   ],
   "id": "3f9c598183d0553c"
  },
  {
   "metadata": {
    "ExecuteTime": {
     "end_time": "2025-08-16T13:03:52.400352Z",
     "start_time": "2025-08-16T13:03:52.384689Z"
    }
   },
   "cell_type": "code",
   "source": [
    "df = pd.read_csv('data/raw/scores.csv')\n",
    "df = df[df['CourseName'] == 'Foundations of ML']\n",
    "df.head()"
   ],
   "id": "2b850c5b7581ddd9",
   "outputs": [
    {
     "data": {
      "text/plain": [
       "                       MemberName  EducationLevel  Attendance  TotalHours  \\\n",
       "0           Theekshana Rathnayake               3        79.9        43.7   \n",
       "1  Mayura Sandakalum Sellapperuma               2        76.8        95.6   \n",
       "2                 Amila Narangoda               3        96.6        75.9   \n",
       "4                Tharusha Vihanga               2        83.2        24.0   \n",
       "7                  Chamath Perera               3        86.5        88.0   \n",
       "\n",
       "   AssignmentsCompleted  HackathonParticipation  GitHubScore  PeerReviewScore  \\\n",
       "0                     2                       0         62.8              5.0   \n",
       "1                     6                       0         87.4              2.7   \n",
       "2                     8                       0         98.4              2.8   \n",
       "4                     6                       0         41.8              4.2   \n",
       "7                     5                       0         23.9              1.3   \n",
       "\n",
       "          CourseName  CapstoneScore  \n",
       "0  Foundations of ML           45.3  \n",
       "1  Foundations of ML           78.8  \n",
       "2  Foundations of ML           65.4  \n",
       "4  Foundations of ML           40.1  \n",
       "7  Foundations of ML           68.2  "
      ],
      "text/html": [
       "<div>\n",
       "<style scoped>\n",
       "    .dataframe tbody tr th:only-of-type {\n",
       "        vertical-align: middle;\n",
       "    }\n",
       "\n",
       "    .dataframe tbody tr th {\n",
       "        vertical-align: top;\n",
       "    }\n",
       "\n",
       "    .dataframe thead th {\n",
       "        text-align: right;\n",
       "    }\n",
       "</style>\n",
       "<table border=\"1\" class=\"dataframe\">\n",
       "  <thead>\n",
       "    <tr style=\"text-align: right;\">\n",
       "      <th></th>\n",
       "      <th>MemberName</th>\n",
       "      <th>EducationLevel</th>\n",
       "      <th>Attendance</th>\n",
       "      <th>TotalHours</th>\n",
       "      <th>AssignmentsCompleted</th>\n",
       "      <th>HackathonParticipation</th>\n",
       "      <th>GitHubScore</th>\n",
       "      <th>PeerReviewScore</th>\n",
       "      <th>CourseName</th>\n",
       "      <th>CapstoneScore</th>\n",
       "    </tr>\n",
       "  </thead>\n",
       "  <tbody>\n",
       "    <tr>\n",
       "      <th>0</th>\n",
       "      <td>Theekshana Rathnayake</td>\n",
       "      <td>3</td>\n",
       "      <td>79.9</td>\n",
       "      <td>43.7</td>\n",
       "      <td>2</td>\n",
       "      <td>0</td>\n",
       "      <td>62.8</td>\n",
       "      <td>5.0</td>\n",
       "      <td>Foundations of ML</td>\n",
       "      <td>45.3</td>\n",
       "    </tr>\n",
       "    <tr>\n",
       "      <th>1</th>\n",
       "      <td>Mayura Sandakalum Sellapperuma</td>\n",
       "      <td>2</td>\n",
       "      <td>76.8</td>\n",
       "      <td>95.6</td>\n",
       "      <td>6</td>\n",
       "      <td>0</td>\n",
       "      <td>87.4</td>\n",
       "      <td>2.7</td>\n",
       "      <td>Foundations of ML</td>\n",
       "      <td>78.8</td>\n",
       "    </tr>\n",
       "    <tr>\n",
       "      <th>2</th>\n",
       "      <td>Amila Narangoda</td>\n",
       "      <td>3</td>\n",
       "      <td>96.6</td>\n",
       "      <td>75.9</td>\n",
       "      <td>8</td>\n",
       "      <td>0</td>\n",
       "      <td>98.4</td>\n",
       "      <td>2.8</td>\n",
       "      <td>Foundations of ML</td>\n",
       "      <td>65.4</td>\n",
       "    </tr>\n",
       "    <tr>\n",
       "      <th>4</th>\n",
       "      <td>Tharusha Vihanga</td>\n",
       "      <td>2</td>\n",
       "      <td>83.2</td>\n",
       "      <td>24.0</td>\n",
       "      <td>6</td>\n",
       "      <td>0</td>\n",
       "      <td>41.8</td>\n",
       "      <td>4.2</td>\n",
       "      <td>Foundations of ML</td>\n",
       "      <td>40.1</td>\n",
       "    </tr>\n",
       "    <tr>\n",
       "      <th>7</th>\n",
       "      <td>Chamath Perera</td>\n",
       "      <td>3</td>\n",
       "      <td>86.5</td>\n",
       "      <td>88.0</td>\n",
       "      <td>5</td>\n",
       "      <td>0</td>\n",
       "      <td>23.9</td>\n",
       "      <td>1.3</td>\n",
       "      <td>Foundations of ML</td>\n",
       "      <td>68.2</td>\n",
       "    </tr>\n",
       "  </tbody>\n",
       "</table>\n",
       "</div>"
      ]
     },
     "execution_count": 3,
     "metadata": {},
     "output_type": "execute_result"
    }
   ],
   "execution_count": 3
  },
  {
   "metadata": {},
   "cell_type": "markdown",
   "source": "### Load features and scale",
   "id": "bc54dbb7d52c2d21"
  },
  {
   "metadata": {
    "ExecuteTime": {
     "end_time": "2025-08-16T13:03:52.451139Z",
     "start_time": "2025-08-16T13:03:52.447295Z"
    }
   },
   "cell_type": "code",
   "source": [
    "def min_max_scale(X):\n",
    "    X_min = np.min(X, axis=0)\n",
    "    X_max = np.max(X, axis=0)\n",
    "    X_scaled = (X - X_min) / (X_max - X_min)\n",
    "    return X_scaled, X_min, X_max"
   ],
   "id": "aff3ef8f0d2063a",
   "outputs": [],
   "execution_count": 4
  },
  {
   "metadata": {
    "ExecuteTime": {
     "end_time": "2025-08-16T13:03:52.532088Z",
     "start_time": "2025-08-16T13:03:52.526626Z"
    }
   },
   "cell_type": "code",
   "source": [
    "X_attendance = df['Attendance'].values\n",
    "X_attendance_scaled, X_attendance_min, X_attendance_max = min_max_scale(X_attendance.reshape(-1, 1))\n",
    "\n",
    "X_study_hours = df['TotalHours'].values\n",
    "X_study_hours_scaled, X_study_hours_min, X_study_hours_max = min_max_scale(X_study_hours.reshape(-1, 1))\n",
    "\n",
    "X_assignments = df['AssignmentsCompleted'].values\n",
    "X_assignments_scaled, X_assignments_min, X_assignments_max = min_max_scale(X_assignments.reshape(-1, 1))\n",
    "\n",
    "X_quiz = df['PeerReviewScore'].values\n",
    "X_quiz_scaled, X_quiz_min, X_quiz_max = min_max_scale(X_quiz.reshape(-1, 1))\n",
    "\n",
    "X_participation = df['HackathonParticipation'].values\n",
    "X_participation_scaled, X_participation_min, X_participation_max = min_max_scale(X_participation.reshape(-1, 1))"
   ],
   "id": "b4114b406dabe321",
   "outputs": [],
   "execution_count": 5
  },
  {
   "metadata": {
    "ExecuteTime": {
     "end_time": "2025-08-16T13:03:52.575316Z",
     "start_time": "2025-08-16T13:03:52.570479Z"
    }
   },
   "cell_type": "code",
   "source": [
    "X = np.column_stack([\n",
    "    np.ones(len(df)),\n",
    "    X_attendance_scaled.flatten(),\n",
    "    X_study_hours_scaled.flatten(),\n",
    "    X_assignments_scaled.flatten(),\n",
    "    X_quiz_scaled.flatten(),\n",
    "    X_participation_scaled.flatten()\n",
    "])\n",
    "\n",
    "y = (df['CapstoneScore'] >= 75).astype(int)"
   ],
   "id": "f48cf3e21c7a78f",
   "outputs": [],
   "execution_count": 6
  },
  {
   "metadata": {},
   "cell_type": "markdown",
   "source": [
    "### Util functions\n",
    "\n",
    "- format_value_for_printing: Format values for better readability"
   ],
   "id": "be5580bb640c69c5"
  },
  {
   "metadata": {
    "ExecuteTime": {
     "end_time": "2025-08-16T13:03:52.598633Z",
     "start_time": "2025-08-16T13:03:52.594117Z"
    }
   },
   "cell_type": "code",
   "source": [
    "def format_value_for_printing(value):\n",
    "    if np.isinf(value):\n",
    "        return \"∞\"\n",
    "    elif np.isnan(value):\n",
    "        return \"NaN\"\n",
    "    else:\n",
    "        return f\"{value:.4f}\""
   ],
   "id": "7cf2296f3bf90be5",
   "outputs": [],
   "execution_count": 7
  },
  {
   "metadata": {},
   "cell_type": "markdown",
   "source": "### Analyzing Functions",
   "id": "5ec59bc3e5ecbf7"
  },
  {
   "metadata": {
    "ExecuteTime": {
     "end_time": "2025-08-16T13:03:52.620566Z",
     "start_time": "2025-08-16T13:03:52.616824Z"
    }
   },
   "cell_type": "code",
   "source": [
    "# Constants\n",
    "CONVERGENCE_THRESHOLD = 1e-6"
   ],
   "id": "66fc2302eba42ca0",
   "outputs": [],
   "execution_count": 8
  },
  {
   "metadata": {
    "ExecuteTime": {
     "end_time": "2025-08-16T13:03:52.656955Z",
     "start_time": "2025-08-16T13:03:52.649480Z"
    }
   },
   "cell_type": "code",
   "source": [
    "def sigmoid(z):\n",
    "    return 1 / (1 + np.exp(-z))\n",
    "\n",
    "def compute_logistic_cost(X, y, theta):\n",
    "    m = len(y)\n",
    "    z = X @ theta\n",
    "    h = sigmoid(z)\n",
    "\n",
    "    epsilon = 1e-15\n",
    "    h = np.clip(h, epsilon, 1 - epsilon)\n",
    "    cost = -(1/m) * np.sum(y * np.log(h) + (1 - y) * np.log(1 - h))\n",
    "\n",
    "    return cost\n",
    "\n",
    "def compute_logistic_gradients(X, y, theta):\n",
    "    m = len(y)\n",
    "    z = X @ theta\n",
    "    h = sigmoid(z)\n",
    "\n",
    "    gradients = (1/m) * X.T @ (h - y)\n",
    "    return gradients\n",
    "\n",
    "def logistic_gradient_descent(X, y, learning_rate):\n",
    "    n_features = X.shape[1]\n",
    "    theta = np.random.normal(0, 0.01, n_features)\n",
    "    n_iterations = 100000\n",
    "    cost_history = []\n",
    "    converged = False\n",
    "\n",
    "    for i in range(n_iterations):\n",
    "        cost = compute_logistic_cost(X, y, theta)\n",
    "        cost_history.append(cost)\n",
    "\n",
    "        gradients = compute_logistic_gradients(X, y, theta)\n",
    "\n",
    "        theta = theta - learning_rate * gradients\n",
    "\n",
    "        # Check for convergence\n",
    "        if i > 10:\n",
    "            change = abs(cost_history[-1] - cost_history[-10])\n",
    "            if change < CONVERGENCE_THRESHOLD:\n",
    "                print(f\"Converged at {i}\")\n",
    "                converged = True\n",
    "                break\n",
    "\n",
    "        # Check for non convergence\n",
    "        if np.isinf(cost):\n",
    "            print(\"Cost diverged. Exiting...\")\n",
    "            break\n",
    "\n",
    "    return theta, cost_history, converged\n",
    "\n",
    "def predict_proba(X, theta):\n",
    "    z = X @ theta\n",
    "    return sigmoid(z)\n",
    "\n",
    "def predict_class(X, theta, threshold=0.5):\n",
    "    probabilities = predict_proba(X, theta)\n",
    "    return (probabilities >= threshold).astype(int)"
   ],
   "id": "bb069b139c51830b",
   "outputs": [],
   "execution_count": 9
  },
  {
   "metadata": {},
   "cell_type": "markdown",
   "source": "### Prediction",
   "id": "6d91a07ab5524eac"
  },
  {
   "metadata": {
    "ExecuteTime": {
     "end_time": "2025-08-16T13:04:18.614553Z",
     "start_time": "2025-08-16T13:03:52.681611Z"
    }
   },
   "cell_type": "code",
   "source": [
    "theta, costs, converged = logistic_gradient_descent(X, y, learning_rate=0.1)\n",
    "\n",
    "y_prob = predict_proba(X, theta)\n",
    "y_pred = predict_class(X, theta, threshold=0.5)"
   ],
   "id": "337718c47599f50b",
   "outputs": [
    {
     "name": "stdout",
     "output_type": "stream",
     "text": [
      "Converged at 83293\n"
     ]
    }
   ],
   "execution_count": 10
  },
  {
   "metadata": {},
   "cell_type": "markdown",
   "source": "### Visualize results",
   "id": "6cf6721d15ad55ac"
  },
  {
   "metadata": {
    "ExecuteTime": {
     "end_time": "2025-08-16T13:04:18.761134Z",
     "start_time": "2025-08-16T13:04:18.632906Z"
    }
   },
   "cell_type": "code",
   "source": [
    "plt.figure(figsize=(16, 8))\n",
    "plt.plot(costs)\n",
    "plt.plot(costs, label='Cost Function', color='blue')\n",
    "plt.title('Cost Function Over Iterations')\n",
    "plt.xlabel('Iterations')\n",
    "plt.ylabel('Cost')\n",
    "plt.show()"
   ],
   "id": "fb119d3c6ae53dd8",
   "outputs": [
    {
     "data": {
      "text/plain": [
       "<Figure size 1600x800 with 1 Axes>"
      ],
      "image/png": "[encoded data removed]"
     },
     "metadata": {},
     "output_type": "display_data"
    }
   ],
   "execution_count": 11
  },
  {
   "metadata": {},
   "cell_type": "markdown",
   "source": "### Evaluation metrics",
   "id": "aa0fffa384b663b0"
  },
  {
   "metadata": {
    "ExecuteTime": {
     "end_time": "2025-08-16T13:04:18.784847Z",
     "start_time": "2025-08-16T13:04:18.779949Z"
    }
   },
   "cell_type": "code",
   "source": [
    "def calculate_evaluation_metrics(y_true, y_pred):\n",
    "    accuracy = np.mean(y_true == y_pred)\n",
    "    tp = np.sum((y_true == 1) & (y_pred == 1))\n",
    "    fp = np.sum((y_true == 0) & (y_pred == 1))\n",
    "    tn = np.sum((y_true == 0) & (y_pred == 0))\n",
    "    fn = np.sum((y_true == 1) & (y_pred == 0))\n",
    "\n",
    "    precision = tp / (tp + fp) if (tp + fp) > 0 else 0\n",
    "    recall = tp / (tp + fn) if (tp + fn) > 0 else 0\n",
    "    f1 = 2 * (precision * recall) / (precision + recall) if (precision + recall) > 0 else 0\n",
    "\n",
    "    return accuracy, tp, fp, tn, fn, precision, recall, f1"
   ],
   "id": "f49e032a49282a9b",
   "outputs": [],
   "execution_count": 12
  },
  {
   "metadata": {
    "ExecuteTime": {
     "end_time": "2025-08-16T13:04:18.795129Z",
     "start_time": "2025-08-16T13:04:18.789835Z"
    }
   },
   "cell_type": "code",
   "source": [
    "print(\"\\n\" + \"=\"*70)\n",
    "print(\"EVALUATION SUMMARY\")\n",
    "print(\"=\"*70)\n",
    "print(f\"{'Threshold':<15} {'Accuracy':<12} {'Precision':<12} {'Recall':<12} {'F1':<12}\")\n",
    "print(\"-\"*70)\n",
    "\n",
    "accuracy, tp, fp, tn, fn, precision, recall, f1 = calculate_evaluation_metrics(y, y_pred)\n",
    "print(f\"{'0.5':<15} {format_value_for_printing(accuracy):<12} {format_value_for_printing(precision):<12} {format_value_for_printing(recall):<12} {format_value_for_printing(f1):<12}\")"
   ],
   "id": "9cdb0a03d1eb32f6",
   "outputs": [
    {
     "name": "stdout",
     "output_type": "stream",
     "text": [
      "\n",
      "======================================================================\n",
      "EVALUATION SUMMARY\n",
      "======================================================================\n",
      "Threshold       Accuracy     Precision    Recall       F1          \n",
      "----------------------------------------------------------------------\n",
      "0.5             0.9583       0.8462       0.9167       0.8800      \n"
     ]
    }
   ],
   "execution_count": 13
  },
  {
   "metadata": {
    "ExecuteTime": {
     "end_time": "2025-08-16T13:04:18.829543Z",
     "start_time": "2025-08-16T13:04:18.826536Z"
    }
   },
   "cell_type": "code",
   "source": "",
   "id": "a2cb1796995be90d",
   "outputs": [],
   "execution_count": null
  }
 ],
 "metadata": {
  "kernelspec": {
   "display_name": "Python 3",
   "language": "python",
   "name": "python3"
  },
  "language_info": {
   "codemirror_mode": {
    "name": "ipython",
    "version": 2
   },
   "file_extension": ".py",
   "mimetype": "text/x-python",
   "name": "python",
   "nbconvert_exporter": "python",
   "pygments_lexer": "ipython2",
   "version": "2.7.6"
  }
 },
 "nbformat": 4,
 "nbformat_minor": 5
}
