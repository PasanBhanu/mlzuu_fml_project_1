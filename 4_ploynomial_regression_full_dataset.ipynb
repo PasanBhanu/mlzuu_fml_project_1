{
 "cells": [
  {
   "cell_type": "code",
   "id": "initial_id",
   "metadata": {
    "collapsed": true,
    "ExecuteTime": {
     "end_time": "2025-08-16T05:51:07.292993Z",
     "start_time": "2025-08-16T05:51:04.004406Z"
    }
   },
   "source": [
    "!pip install numpy\n",
    "!pip install matplotlib\n",
    "!pip install pandas"
   ],
   "outputs": [
    {
     "name": "stdout",
     "output_type": "stream",
     "text": [
      "Requirement already satisfied: numpy in c:\\users\\pasan\\appdata\\local\\programs\\python\\python311\\lib\\site-packages (2.3.1)\n"
     ]
    },
    {
     "name": "stderr",
     "output_type": "stream",
     "text": [
      "\n",
      "[notice] A new release of pip is available: 25.1.1 -> 25.2\n",
      "[notice] To update, run: python.exe -m pip install --upgrade pip\n"
     ]
    },
    {
     "name": "stdout",
     "output_type": "stream",
     "text": [
      "Requirement already satisfied: matplotlib in d:\\education\\foundations of machine learning\\assignment 1\\mlzuu_fml_project_1\\.venv\\lib\\site-packages (3.10.5)\n",
      "Requirement already satisfied: contourpy>=1.0.1 in d:\\education\\foundations of machine learning\\assignment 1\\mlzuu_fml_project_1\\.venv\\lib\\site-packages (from matplotlib) (1.3.3)\n",
      "Requirement already satisfied: cycler>=0.10 in d:\\education\\foundations of machine learning\\assignment 1\\mlzuu_fml_project_1\\.venv\\lib\\site-packages (from matplotlib) (0.12.1)\n",
      "Requirement already satisfied: fonttools>=4.22.0 in d:\\education\\foundations of machine learning\\assignment 1\\mlzuu_fml_project_1\\.venv\\lib\\site-packages (from matplotlib) (4.59.1)\n",
      "Requirement already satisfied: kiwisolver>=1.3.1 in d:\\education\\foundations of machine learning\\assignment 1\\mlzuu_fml_project_1\\.venv\\lib\\site-packages (from matplotlib) (1.4.9)\n",
      "Requirement already satisfied: numpy>=1.23 in c:\\users\\pasan\\appdata\\local\\programs\\python\\python311\\lib\\site-packages (from matplotlib) (2.3.1)\n",
      "Requirement already satisfied: packaging>=20.0 in d:\\education\\foundations of machine learning\\assignment 1\\mlzuu_fml_project_1\\.venv\\lib\\site-packages (from matplotlib) (25.0)\n",
      "Requirement already satisfied: pillow>=8 in d:\\education\\foundations of machine learning\\assignment 1\\mlzuu_fml_project_1\\.venv\\lib\\site-packages (from matplotlib) (11.3.0)\n",
      "Requirement already satisfied: pyparsing>=2.3.1 in d:\\education\\foundations of machine learning\\assignment 1\\mlzuu_fml_project_1\\.venv\\lib\\site-packages (from matplotlib) (3.2.3)\n",
      "Requirement already satisfied: python-dateutil>=2.7 in d:\\education\\foundations of machine learning\\assignment 1\\mlzuu_fml_project_1\\.venv\\lib\\site-packages (from matplotlib) (2.9.0.post0)\n",
      "Requirement already satisfied: six>=1.5 in d:\\education\\foundations of machine learning\\assignment 1\\mlzuu_fml_project_1\\.venv\\lib\\site-packages (from python-dateutil>=2.7->matplotlib) (1.17.0)\n"
     ]
    },
    {
     "name": "stderr",
     "output_type": "stream",
     "text": [
      "\n",
      "[notice] A new release of pip is available: 25.1.1 -> 25.2\n",
      "[notice] To update, run: python.exe -m pip install --upgrade pip\n"
     ]
    },
    {
     "name": "stdout",
     "output_type": "stream",
     "text": [
      "Requirement already satisfied: pandas in d:\\education\\foundations of machine learning\\assignment 1\\mlzuu_fml_project_1\\.venv\\lib\\site-packages (2.3.1)\n",
      "Requirement already satisfied: numpy>=1.23.2 in c:\\users\\pasan\\appdata\\local\\programs\\python\\python311\\lib\\site-packages (from pandas) (2.3.1)\n",
      "Requirement already satisfied: python-dateutil>=2.8.2 in d:\\education\\foundations of machine learning\\assignment 1\\mlzuu_fml_project_1\\.venv\\lib\\site-packages (from pandas) (2.9.0.post0)\n",
      "Requirement already satisfied: pytz>=2020.1 in d:\\education\\foundations of machine learning\\assignment 1\\mlzuu_fml_project_1\\.venv\\lib\\site-packages (from pandas) (2025.2)\n",
      "Requirement already satisfied: tzdata>=2022.7 in d:\\education\\foundations of machine learning\\assignment 1\\mlzuu_fml_project_1\\.venv\\lib\\site-packages (from pandas) (2025.2)\n",
      "Requirement already satisfied: six>=1.5 in d:\\education\\foundations of machine learning\\assignment 1\\mlzuu_fml_project_1\\.venv\\lib\\site-packages (from python-dateutil>=2.8.2->pandas) (1.17.0)\n"
     ]
    },
    {
     "name": "stderr",
     "output_type": "stream",
     "text": [
      "\n",
      "[notice] A new release of pip is available: 25.1.1 -> 25.2\n",
      "[notice] To update, run: python.exe -m pip install --upgrade pip\n"
     ]
    }
   ],
   "execution_count": 1
  },
  {
   "metadata": {
    "ExecuteTime": {
     "end_time": "2025-08-16T05:51:07.894614Z",
     "start_time": "2025-08-16T05:51:07.296428Z"
    }
   },
   "cell_type": "code",
   "source": [
    "import pandas as pd\n",
    "import numpy as np\n",
    "import matplotlib.pyplot as plt"
   ],
   "id": "48aad5617fcbb939",
   "outputs": [],
   "execution_count": 2
  },
  {
   "metadata": {},
   "cell_type": "markdown",
   "source": [
    "### Load CSV\n",
    "\n",
    "- Load the CSV file containing the scores data\n",
    "- Filter the data to include only the \"Foundations of ML\" course"
   ],
   "id": "464e6c114e7bde99"
  },
  {
   "metadata": {
    "ExecuteTime": {
     "end_time": "2025-08-16T05:51:08.097338Z",
     "start_time": "2025-08-16T05:51:08.083352Z"
    }
   },
   "cell_type": "code",
   "source": [
    "df = pd.read_csv('data/raw/scores.csv')\n",
    "df = df[df['CourseName'] == 'Foundations of ML']\n",
    "df.head()"
   ],
   "id": "1a67397e053a004b",
   "outputs": [
    {
     "data": {
      "text/plain": [
       "                       MemberName  EducationLevel  Attendance  TotalHours  \\\n",
       "0           Theekshana Rathnayake               3        79.9        43.7   \n",
       "1  Mayura Sandakalum Sellapperuma               2        76.8        95.6   \n",
       "2                 Amila Narangoda               3        96.6        75.9   \n",
       "4                Tharusha Vihanga               2        83.2        24.0   \n",
       "7                  Chamath Perera               3        86.5        88.0   \n",
       "\n",
       "   AssignmentsCompleted  HackathonParticipation  GitHubScore  PeerReviewScore  \\\n",
       "0                     2                       0         62.8              5.0   \n",
       "1                     6                       0         87.4              2.7   \n",
       "2                     8                       0         98.4              2.8   \n",
       "4                     6                       0         41.8              4.2   \n",
       "7                     5                       0         23.9              1.3   \n",
       "\n",
       "          CourseName  CapstoneScore  \n",
       "0  Foundations of ML           45.3  \n",
       "1  Foundations of ML           78.8  \n",
       "2  Foundations of ML           65.4  \n",
       "4  Foundations of ML           40.1  \n",
       "7  Foundations of ML           68.2  "
      ],
      "text/html": [
       "<div>\n",
       "<style scoped>\n",
       "    .dataframe tbody tr th:only-of-type {\n",
       "        vertical-align: middle;\n",
       "    }\n",
       "\n",
       "    .dataframe tbody tr th {\n",
       "        vertical-align: top;\n",
       "    }\n",
       "\n",
       "    .dataframe thead th {\n",
       "        text-align: right;\n",
       "    }\n",
       "</style>\n",
       "<table border=\"1\" class=\"dataframe\">\n",
       "  <thead>\n",
       "    <tr style=\"text-align: right;\">\n",
       "      <th></th>\n",
       "      <th>MemberName</th>\n",
       "      <th>EducationLevel</th>\n",
       "      <th>Attendance</th>\n",
       "      <th>TotalHours</th>\n",
       "      <th>AssignmentsCompleted</th>\n",
       "      <th>HackathonParticipation</th>\n",
       "      <th>GitHubScore</th>\n",
       "      <th>PeerReviewScore</th>\n",
       "      <th>CourseName</th>\n",
       "      <th>CapstoneScore</th>\n",
       "    </tr>\n",
       "  </thead>\n",
       "  <tbody>\n",
       "    <tr>\n",
       "      <th>0</th>\n",
       "      <td>Theekshana Rathnayake</td>\n",
       "      <td>3</td>\n",
       "      <td>79.9</td>\n",
       "      <td>43.7</td>\n",
       "      <td>2</td>\n",
       "      <td>0</td>\n",
       "      <td>62.8</td>\n",
       "      <td>5.0</td>\n",
       "      <td>Foundations of ML</td>\n",
       "      <td>45.3</td>\n",
       "    </tr>\n",
       "    <tr>\n",
       "      <th>1</th>\n",
       "      <td>Mayura Sandakalum Sellapperuma</td>\n",
       "      <td>2</td>\n",
       "      <td>76.8</td>\n",
       "      <td>95.6</td>\n",
       "      <td>6</td>\n",
       "      <td>0</td>\n",
       "      <td>87.4</td>\n",
       "      <td>2.7</td>\n",
       "      <td>Foundations of ML</td>\n",
       "      <td>78.8</td>\n",
       "    </tr>\n",
       "    <tr>\n",
       "      <th>2</th>\n",
       "      <td>Amila Narangoda</td>\n",
       "      <td>3</td>\n",
       "      <td>96.6</td>\n",
       "      <td>75.9</td>\n",
       "      <td>8</td>\n",
       "      <td>0</td>\n",
       "      <td>98.4</td>\n",
       "      <td>2.8</td>\n",
       "      <td>Foundations of ML</td>\n",
       "      <td>65.4</td>\n",
       "    </tr>\n",
       "    <tr>\n",
       "      <th>4</th>\n",
       "      <td>Tharusha Vihanga</td>\n",
       "      <td>2</td>\n",
       "      <td>83.2</td>\n",
       "      <td>24.0</td>\n",
       "      <td>6</td>\n",
       "      <td>0</td>\n",
       "      <td>41.8</td>\n",
       "      <td>4.2</td>\n",
       "      <td>Foundations of ML</td>\n",
       "      <td>40.1</td>\n",
       "    </tr>\n",
       "    <tr>\n",
       "      <th>7</th>\n",
       "      <td>Chamath Perera</td>\n",
       "      <td>3</td>\n",
       "      <td>86.5</td>\n",
       "      <td>88.0</td>\n",
       "      <td>5</td>\n",
       "      <td>0</td>\n",
       "      <td>23.9</td>\n",
       "      <td>1.3</td>\n",
       "      <td>Foundations of ML</td>\n",
       "      <td>68.2</td>\n",
       "    </tr>\n",
       "  </tbody>\n",
       "</table>\n",
       "</div>"
      ]
     },
     "execution_count": 3,
     "metadata": {},
     "output_type": "execute_result"
    }
   ],
   "execution_count": 3
  },
  {
   "metadata": {},
   "cell_type": "markdown",
   "source": "### Load features and scale",
   "id": "d6ecc326149e412e"
  },
  {
   "metadata": {
    "ExecuteTime": {
     "end_time": "2025-08-16T05:51:08.141192Z",
     "start_time": "2025-08-16T05:51:08.137406Z"
    }
   },
   "cell_type": "code",
   "source": [
    "def min_max_scale(X):\n",
    "    X_min = np.min(X, axis=0)\n",
    "    X_max = np.max(X, axis=0)\n",
    "    X_scaled = (X - X_min) / (X_max - X_min)\n",
    "    return X_scaled, X_min, X_max"
   ],
   "id": "259b1abf15404f45",
   "outputs": [],
   "execution_count": 4
  },
  {
   "metadata": {
    "ExecuteTime": {
     "end_time": "2025-08-16T05:51:08.217281Z",
     "start_time": "2025-08-16T05:51:08.210727Z"
    }
   },
   "cell_type": "code",
   "source": [
    "X_attendance = df['Attendance'].values\n",
    "X_attendance_scaled, X_attendance_min, X_attendance_max = min_max_scale(X_attendance.reshape(-1, 1))\n",
    "\n",
    "X_study_hours = df['TotalHours'].values\n",
    "X_study_hours_scaled, X_study_hours_min, X_study_hours_max = min_max_scale(X_study_hours.reshape(-1, 1))\n",
    "\n",
    "X_assignments = df['AssignmentsCompleted'].values\n",
    "X_assignments_scaled, X_assignments_min, X_assignments_max = min_max_scale(X_assignments.reshape(-1, 1))\n",
    "\n",
    "X_quiz = df['PeerReviewScore'].values\n",
    "X_quiz_scaled, X_quiz_min, X_quiz_max = min_max_scale(X_quiz.reshape(-1, 1))\n",
    "\n",
    "X_participation = df['HackathonParticipation'].values\n",
    "X_participation_scaled, X_participation_min, X_participation_max = min_max_scale(X_participation.reshape(-1, 1))\n",
    "\n",
    "Y = df['CapstoneScore'].values\n",
    "Y_scaled, Y_min, Y_max = min_max_scale(Y.reshape(-1, 1))"
   ],
   "id": "4f8b4fcfc64b70db",
   "outputs": [],
   "execution_count": 5
  },
  {
   "metadata": {
    "ExecuteTime": {
     "end_time": "2025-08-16T05:51:08.265306Z",
     "start_time": "2025-08-16T05:51:08.261216Z"
    }
   },
   "cell_type": "code",
   "source": [
    "X = np.column_stack([\n",
    "    np.ones(len(df)),\n",
    "    X_attendance_scaled.flatten(),\n",
    "    X_study_hours_scaled.flatten(),\n",
    "    X_assignments_scaled.flatten(),\n",
    "    X_quiz_scaled.flatten(),\n",
    "    X_participation_scaled.flatten()\n",
    "])\n",
    "\n",
    "y = Y_scaled.flatten()"
   ],
   "id": "7b052cf053633ff1",
   "outputs": [],
   "execution_count": 6
  },
  {
   "metadata": {},
   "cell_type": "markdown",
   "source": [
    "### Util functions\n",
    "\n",
    "- format_value_for_printing: Format values for better readability"
   ],
   "id": "4642895e33b2c751"
  },
  {
   "metadata": {
    "ExecuteTime": {
     "end_time": "2025-08-16T05:51:08.288240Z",
     "start_time": "2025-08-16T05:51:08.284390Z"
    }
   },
   "cell_type": "code",
   "source": [
    "def format_value_for_printing(value):\n",
    "    if np.isinf(value):\n",
    "        return \"∞\"\n",
    "    elif np.isnan(value):\n",
    "        return \"NaN\"\n",
    "    else:\n",
    "        return f\"{value:.4f}\""
   ],
   "id": "581e998142457da5",
   "outputs": [],
   "execution_count": 7
  },
  {
   "metadata": {},
   "cell_type": "markdown",
   "source": [
    "### Analyzing Functions\n",
    "\n",
    "- create_polynomial_features: Create polynomial features to specified degree\n",
    "- fit_polynomial: Fit a polynomial regression model"
   ],
   "id": "3849ed223b273818"
  },
  {
   "metadata": {
    "ExecuteTime": {
     "end_time": "2025-08-16T05:51:08.312585Z",
     "start_time": "2025-08-16T05:51:08.309036Z"
    }
   },
   "cell_type": "code",
   "source": [
    "# Constants\n",
    "CONVERGENCE_THRESHOLD = 1e-6"
   ],
   "id": "24560a5050c6b68a",
   "outputs": [],
   "execution_count": 8
  },
  {
   "metadata": {
    "ExecuteTime": {
     "end_time": "2025-08-16T05:51:08.339602Z",
     "start_time": "2025-08-16T05:51:08.332260Z"
    }
   },
   "cell_type": "code",
   "source": [
    "def create_polynomial_features(X, degree):\n",
    "    if X.ndim == 1:\n",
    "        X = X.reshape(-1, 1)\n",
    "\n",
    "    m, n_features = X.shape\n",
    "    X_poly = np.ones((m, 1))\n",
    "\n",
    "    for d in range(1, degree + 1):\n",
    "        for feature_idx in range(n_features):\n",
    "            feature_power = X[:, feature_idx] ** d\n",
    "            X_poly = np.column_stack([X_poly, feature_power])\n",
    "\n",
    "    return X_poly\n",
    "\n",
    "\n",
    "def fit_polynomial(X, y, degree, learning_rate):\n",
    "    num_iterations = 100000\n",
    "    cost_history = []\n",
    "    converged = False\n",
    "\n",
    "    X_poly = create_polynomial_features(X, degree)\n",
    "    n_features = X_poly.shape[1]\n",
    "    beta = np.random.normal(0, 0.01, n_features)\n",
    "    m = len(y)\n",
    "\n",
    "    for i in range(num_iterations):\n",
    "        predictions = X_poly.dot(beta)\n",
    "        cost = (1 / (2 * m)) * np.sum((predictions - y) ** 2)\n",
    "        cost_history.append(cost)\n",
    "\n",
    "        gradients = (1 / m) * X_poly.T.dot(predictions - y)\n",
    "        beta = beta - learning_rate * gradients\n",
    "\n",
    "        # Check for convergence\n",
    "        if i > 10:\n",
    "            change = abs(cost_history[-1] - cost_history[-10])\n",
    "            if change < CONVERGENCE_THRESHOLD:\n",
    "                print(f\"Converged at {i}\")\n",
    "                converged = True\n",
    "                break\n",
    "\n",
    "        # Check for non convergence\n",
    "        if np.isinf(cost):\n",
    "            print(\"Cost diverged. Exiting...\")\n",
    "            break\n",
    "\n",
    "    return beta, cost_history, converged\n",
    "\n",
    "def predict_polynomial(X, beta, degree):\n",
    "    X_poly = create_polynomial_features(X, degree)\n",
    "    predictions = X_poly.dot(beta)\n",
    "    return predictions"
   ],
   "id": "5557bc7e53de5fa0",
   "outputs": [],
   "execution_count": 9
  },
  {
   "metadata": {},
   "cell_type": "markdown",
   "source": "### Prediction",
   "id": "ddac904c6593c4ea"
  },
  {
   "metadata": {
    "ExecuteTime": {
     "end_time": "2025-08-16T05:51:10.549382Z",
     "start_time": "2025-08-16T05:51:08.366149Z"
    }
   },
   "cell_type": "code",
   "source": [
    "model_1 = fit_polynomial(X, y, 1, learning_rate=0.00001)\n",
    "model_2 = fit_polynomial(X, y, 2, learning_rate=0.00001)\n",
    "model_3 = fit_polynomial(X, y, 3, learning_rate=0.00001)"
   ],
   "id": "c79b8b4abb41f21d",
   "outputs": [
    {
     "name": "stdout",
     "output_type": "stream",
     "text": [
      "Converged at 73861\n",
      "Converged at 59705\n",
      "Converged at 61105\n"
     ]
    }
   ],
   "execution_count": 10
  },
  {
   "metadata": {},
   "cell_type": "markdown",
   "source": "### Visualize results",
   "id": "25ec02fc63add3d9"
  },
  {
   "metadata": {
    "ExecuteTime": {
     "end_time": "2025-08-16T05:51:11.009575Z",
     "start_time": "2025-08-16T05:51:10.582676Z"
    }
   },
   "cell_type": "code",
   "source": [
    "fig, axes = plt.subplots(2, 3, figsize=(16, 8))\n",
    "\n",
    "x_min, x_max = float(np.min(X)), float(np.max(X))\n",
    "x_interval = np.linspace(x_min, x_max, 100)\n",
    "\n",
    "ax = axes[0, 0]\n",
    "ax.plot(model_1[1], label='Degree 1')\n",
    "ax.set_title('Cost Variation (Degree 1)')\n",
    "ax.set_xlabel('Iterations')\n",
    "ax.set_ylabel('Cost')\n",
    "\n",
    "ax = axes[0, 1]\n",
    "ax.plot(model_2[1], label='Degree 2')\n",
    "ax.set_title('Cost Variation (Degree 2)')\n",
    "ax.set_xlabel('Iterations')\n",
    "ax.set_ylabel('Cost')\n",
    "\n",
    "ax = axes[0, 2]\n",
    "ax.plot(model_3[1], label='Degree 3')\n",
    "ax.set_title('Cost Variation (Degree 3)')\n",
    "ax.set_xlabel('Iterations')\n",
    "ax.set_ylabel('Cost')\n",
    "\n",
    "ax = axes[1, 0]\n",
    "prediction_1 = predict_polynomial(X, model_1[0], 1)\n",
    "min_val = min(y.min(), prediction_1.min())\n",
    "max_val = max(y.max(), prediction_1.max())\n",
    "ax.scatter(y, prediction_1, alpha=0.7)\n",
    "ax.plot([min_val, max_val], [min_val, max_val], 'r--', label='Perfect Prediction')\n",
    "ax.set_xlabel('Actual Capstone Score')\n",
    "ax.set_ylabel('Predicted Capstone Score')\n",
    "ax.set_title('Predicted vs Actual Values')\n",
    "\n",
    "ax = axes[1, 1]\n",
    "prediction_2 = predict_polynomial(X, model_1[0], 1)\n",
    "min_val = min(y.min(), prediction_2.min())\n",
    "max_val = max(y.max(), prediction_2.max())\n",
    "ax.scatter(y, prediction_2, alpha=0.7)\n",
    "ax.plot([min_val, max_val], [min_val, max_val], 'r--', label='Perfect Prediction')\n",
    "ax.set_xlabel('Actual Capstone Score')\n",
    "ax.set_ylabel('Predicted Capstone Score')\n",
    "ax.set_title('Predicted vs Actual Values')\n",
    "\n",
    "ax = axes[1, 2]\n",
    "prediction_3 = predict_polynomial(X, model_1[0], 1)\n",
    "min_val = min(y.min(), prediction_3.min())\n",
    "max_val = max(y.max(), prediction_3.max())\n",
    "ax.scatter(y, prediction_3, alpha=0.7)\n",
    "ax.plot([min_val, max_val], [min_val, max_val], 'r--', label='Perfect Prediction')\n",
    "ax.set_xlabel('Actual Capstone Score')\n",
    "ax.set_ylabel('Predicted Capstone Score')\n",
    "ax.set_title('Predicted vs Actual Values')\n",
    "\n",
    "plt.subplots_adjust(\n",
    "    hspace=0.4,\n",
    "    wspace=0.3\n",
    ")\n",
    "plt.show()"
   ],
   "id": "18a02d92193f1e24",
   "outputs": [
    {
     "data": {
      "text/plain": [
       "<Figure size 1600x800 with 6 Axes>"
      ],
      "image/png": "[encoded data removed]"
     },
     "metadata": {},
     "output_type": "display_data"
    }
   ],
   "execution_count": 11
  },
  {
   "metadata": {},
   "cell_type": "markdown",
   "source": "### Evaluation metrics",
   "id": "64c524b41c192d68"
  },
  {
   "metadata": {
    "ExecuteTime": {
     "end_time": "2025-08-16T05:51:11.035741Z",
     "start_time": "2025-08-16T05:51:11.031463Z"
    }
   },
   "cell_type": "code",
   "source": [
    "def calculate_evaluation_metrics(X, Y, beta, degree):\n",
    "    y_hat = predict_polynomial(X, beta, degree)\n",
    "    residuals = Y - y_hat\n",
    "    mse = np.mean(residuals ** 2)\n",
    "    mae = np.mean(abs(residuals))\n",
    "    rmse = np.sqrt(mse)\n",
    "    r_squared = 1 - (np.sum(residuals ** 2) / np.sum((Y - np.mean(Y)) ** 2))\n",
    "\n",
    "    return mse, mae, rmse, r_squared"
   ],
   "id": "9be04c3992d8f071",
   "outputs": [],
   "execution_count": 12
  },
  {
   "metadata": {
    "ExecuteTime": {
     "end_time": "2025-08-16T05:51:11.065793Z",
     "start_time": "2025-08-16T05:51:11.060252Z"
    }
   },
   "cell_type": "code",
   "source": [
    "print(\"\\n\" + \"=\"*70)\n",
    "print(\"EVALUATION SUMMARY\")\n",
    "print(\"=\"*70)\n",
    "print(f\"{'Degree':<15} {'MSE':<12} {'MAE':<12} {'RMSE':<12} {'R²':<12}\")\n",
    "print(\"-\"*70)\n",
    "\n",
    "for i in range (1, 4):\n",
    "    beta = eval(f'model_{i}')[0]\n",
    "    mse, mae, rmse, r_squared = calculate_evaluation_metrics(X, y, beta, i)\n",
    "    print(f\"{i:<15} {format_value_for_printing(mse):<12} {format_value_for_printing(mae):<12} {format_value_for_printing(rmse):<12} {format_value_for_printing(r_squared):<12}\")"
   ],
   "id": "e32c1f06a8f5efae",
   "outputs": [
    {
     "name": "stdout",
     "output_type": "stream",
     "text": [
      "\n",
      "======================================================================\n",
      "EVALUATION SUMMARY\n",
      "======================================================================\n",
      "Degree          MSE          MAE          RMSE         R²          \n",
      "----------------------------------------------------------------------\n",
      "1               0.0507       0.1946       0.2252       0.2268      \n",
      "2               0.0429       0.1818       0.2072       0.3456      \n",
      "3               0.0392       0.1742       0.1980       0.4026      \n"
     ]
    }
   ],
   "execution_count": 13
  }
 ],
 "metadata": {
  "kernelspec": {
   "display_name": "Python 3",
   "language": "python",
   "name": "python3"
  },
  "language_info": {
   "codemirror_mode": {
    "name": "ipython",
    "version": 2
   },
   "file_extension": ".py",
   "mimetype": "text/x-python",
   "name": "python",
   "nbconvert_exporter": "python",
   "pygments_lexer": "ipython2",
   "version": "2.7.6"
  }
 },
 "nbformat": 4,
 "nbformat_minor": 5
}
