{
 "cells": [
  {
   "cell_type": "code",
   "id": "initial_id",
   "metadata": {
    "collapsed": true,
    "ExecuteTime": {
     "end_time": "2025-08-16T04:50:54.055857Z",
     "start_time": "2025-08-16T04:50:50.755014Z"
    }
   },
   "source": [
    "!pip install numpy\n",
    "!pip install matplotlib\n",
    "!pip install pandas"
   ],
   "outputs": [
    {
     "name": "stdout",
     "output_type": "stream",
     "text": [
      "Requirement already satisfied: numpy in c:\\users\\pasan\\appdata\\local\\programs\\python\\python311\\lib\\site-packages (2.3.1)\n"
     ]
    },
    {
     "name": "stderr",
     "output_type": "stream",
     "text": [
      "\n",
      "[notice] A new release of pip is available: 25.1.1 -> 25.2\n",
      "[notice] To update, run: python.exe -m pip install --upgrade pip\n"
     ]
    },
    {
     "name": "stdout",
     "output_type": "stream",
     "text": [
      "Requirement already satisfied: matplotlib in d:\\education\\foundations of machine learning\\assignment 1\\mlzuu_fml_project_1\\.venv\\lib\\site-packages (3.10.5)\n",
      "Requirement already satisfied: contourpy>=1.0.1 in d:\\education\\foundations of machine learning\\assignment 1\\mlzuu_fml_project_1\\.venv\\lib\\site-packages (from matplotlib) (1.3.3)\n",
      "Requirement already satisfied: cycler>=0.10 in d:\\education\\foundations of machine learning\\assignment 1\\mlzuu_fml_project_1\\.venv\\lib\\site-packages (from matplotlib) (0.12.1)\n",
      "Requirement already satisfied: fonttools>=4.22.0 in d:\\education\\foundations of machine learning\\assignment 1\\mlzuu_fml_project_1\\.venv\\lib\\site-packages (from matplotlib) (4.59.1)\n",
      "Requirement already satisfied: kiwisolver>=1.3.1 in d:\\education\\foundations of machine learning\\assignment 1\\mlzuu_fml_project_1\\.venv\\lib\\site-packages (from matplotlib) (1.4.9)\n",
      "Requirement already satisfied: numpy>=1.23 in c:\\users\\pasan\\appdata\\local\\programs\\python\\python311\\lib\\site-packages (from matplotlib) (2.3.1)\n",
      "Requirement already satisfied: packaging>=20.0 in d:\\education\\foundations of machine learning\\assignment 1\\mlzuu_fml_project_1\\.venv\\lib\\site-packages (from matplotlib) (25.0)\n",
      "Requirement already satisfied: pillow>=8 in d:\\education\\foundations of machine learning\\assignment 1\\mlzuu_fml_project_1\\.venv\\lib\\site-packages (from matplotlib) (11.3.0)\n",
      "Requirement already satisfied: pyparsing>=2.3.1 in d:\\education\\foundations of machine learning\\assignment 1\\mlzuu_fml_project_1\\.venv\\lib\\site-packages (from matplotlib) (3.2.3)\n",
      "Requirement already satisfied: python-dateutil>=2.7 in d:\\education\\foundations of machine learning\\assignment 1\\mlzuu_fml_project_1\\.venv\\lib\\site-packages (from matplotlib) (2.9.0.post0)\n",
      "Requirement already satisfied: six>=1.5 in d:\\education\\foundations of machine learning\\assignment 1\\mlzuu_fml_project_1\\.venv\\lib\\site-packages (from python-dateutil>=2.7->matplotlib) (1.17.0)\n"
     ]
    },
    {
     "name": "stderr",
     "output_type": "stream",
     "text": [
      "\n",
      "[notice] A new release of pip is available: 25.1.1 -> 25.2\n",
      "[notice] To update, run: python.exe -m pip install --upgrade pip\n"
     ]
    },
    {
     "name": "stdout",
     "output_type": "stream",
     "text": [
      "Requirement already satisfied: pandas in d:\\education\\foundations of machine learning\\assignment 1\\mlzuu_fml_project_1\\.venv\\lib\\site-packages (2.3.1)\n",
      "Requirement already satisfied: numpy>=1.23.2 in c:\\users\\pasan\\appdata\\local\\programs\\python\\python311\\lib\\site-packages (from pandas) (2.3.1)\n",
      "Requirement already satisfied: python-dateutil>=2.8.2 in d:\\education\\foundations of machine learning\\assignment 1\\mlzuu_fml_project_1\\.venv\\lib\\site-packages (from pandas) (2.9.0.post0)\n",
      "Requirement already satisfied: pytz>=2020.1 in d:\\education\\foundations of machine learning\\assignment 1\\mlzuu_fml_project_1\\.venv\\lib\\site-packages (from pandas) (2025.2)\n",
      "Requirement already satisfied: tzdata>=2022.7 in d:\\education\\foundations of machine learning\\assignment 1\\mlzuu_fml_project_1\\.venv\\lib\\site-packages (from pandas) (2025.2)\n",
      "Requirement already satisfied: six>=1.5 in d:\\education\\foundations of machine learning\\assignment 1\\mlzuu_fml_project_1\\.venv\\lib\\site-packages (from python-dateutil>=2.8.2->pandas) (1.17.0)\n"
     ]
    },
    {
     "name": "stderr",
     "output_type": "stream",
     "text": [
      "\n",
      "[notice] A new release of pip is available: 25.1.1 -> 25.2\n",
      "[notice] To update, run: python.exe -m pip install --upgrade pip\n"
     ]
    }
   ],
   "execution_count": 1
  },
  {
   "metadata": {
    "ExecuteTime": {
     "end_time": "2025-08-16T04:50:54.859586Z",
     "start_time": "2025-08-16T04:50:54.260395Z"
    }
   },
   "cell_type": "code",
   "source": [
    "import pandas as pd\n",
    "import numpy as np\n",
    "import matplotlib.pyplot as plt"
   ],
   "id": "48aad5617fcbb939",
   "outputs": [],
   "execution_count": 2
  },
  {
   "metadata": {},
   "cell_type": "markdown",
   "source": [
    "### Load CSV\n",
    "\n",
    "- Load the CSV file containing the scores data\n",
    "- Filter the data to include only the \"Foundations of ML\" course"
   ],
   "id": "464e6c114e7bde99"
  },
  {
   "metadata": {
    "ExecuteTime": {
     "end_time": "2025-08-16T04:50:54.881655Z",
     "start_time": "2025-08-16T04:50:54.867230Z"
    }
   },
   "cell_type": "code",
   "source": [
    "df = pd.read_csv('data/raw/scores.csv')\n",
    "df = df[df['CourseName'] == 'Foundations of ML']\n",
    "df.head()"
   ],
   "id": "1a67397e053a004b",
   "outputs": [
    {
     "data": {
      "text/plain": [
       "                       MemberName  EducationLevel  Attendance  TotalHours  \\\n",
       "0           Theekshana Rathnayake               3        79.9        43.7   \n",
       "1  Mayura Sandakalum Sellapperuma               2        76.8        95.6   \n",
       "2                 Amila Narangoda               3        96.6        75.9   \n",
       "4                Tharusha Vihanga               2        83.2        24.0   \n",
       "7                  Chamath Perera               3        86.5        88.0   \n",
       "\n",
       "   AssignmentsCompleted  HackathonParticipation  GitHubScore  PeerReviewScore  \\\n",
       "0                     2                       0         62.8              5.0   \n",
       "1                     6                       0         87.4              2.7   \n",
       "2                     8                       0         98.4              2.8   \n",
       "4                     6                       0         41.8              4.2   \n",
       "7                     5                       0         23.9              1.3   \n",
       "\n",
       "          CourseName  CapstoneScore  \n",
       "0  Foundations of ML           45.3  \n",
       "1  Foundations of ML           78.8  \n",
       "2  Foundations of ML           65.4  \n",
       "4  Foundations of ML           40.1  \n",
       "7  Foundations of ML           68.2  "
      ],
      "text/html": [
       "<div>\n",
       "<style scoped>\n",
       "    .dataframe tbody tr th:only-of-type {\n",
       "        vertical-align: middle;\n",
       "    }\n",
       "\n",
       "    .dataframe tbody tr th {\n",
       "        vertical-align: top;\n",
       "    }\n",
       "\n",
       "    .dataframe thead th {\n",
       "        text-align: right;\n",
       "    }\n",
       "</style>\n",
       "<table border=\"1\" class=\"dataframe\">\n",
       "  <thead>\n",
       "    <tr style=\"text-align: right;\">\n",
       "      <th></th>\n",
       "      <th>MemberName</th>\n",
       "      <th>EducationLevel</th>\n",
       "      <th>Attendance</th>\n",
       "      <th>TotalHours</th>\n",
       "      <th>AssignmentsCompleted</th>\n",
       "      <th>HackathonParticipation</th>\n",
       "      <th>GitHubScore</th>\n",
       "      <th>PeerReviewScore</th>\n",
       "      <th>CourseName</th>\n",
       "      <th>CapstoneScore</th>\n",
       "    </tr>\n",
       "  </thead>\n",
       "  <tbody>\n",
       "    <tr>\n",
       "      <th>0</th>\n",
       "      <td>Theekshana Rathnayake</td>\n",
       "      <td>3</td>\n",
       "      <td>79.9</td>\n",
       "      <td>43.7</td>\n",
       "      <td>2</td>\n",
       "      <td>0</td>\n",
       "      <td>62.8</td>\n",
       "      <td>5.0</td>\n",
       "      <td>Foundations of ML</td>\n",
       "      <td>45.3</td>\n",
       "    </tr>\n",
       "    <tr>\n",
       "      <th>1</th>\n",
       "      <td>Mayura Sandakalum Sellapperuma</td>\n",
       "      <td>2</td>\n",
       "      <td>76.8</td>\n",
       "      <td>95.6</td>\n",
       "      <td>6</td>\n",
       "      <td>0</td>\n",
       "      <td>87.4</td>\n",
       "      <td>2.7</td>\n",
       "      <td>Foundations of ML</td>\n",
       "      <td>78.8</td>\n",
       "    </tr>\n",
       "    <tr>\n",
       "      <th>2</th>\n",
       "      <td>Amila Narangoda</td>\n",
       "      <td>3</td>\n",
       "      <td>96.6</td>\n",
       "      <td>75.9</td>\n",
       "      <td>8</td>\n",
       "      <td>0</td>\n",
       "      <td>98.4</td>\n",
       "      <td>2.8</td>\n",
       "      <td>Foundations of ML</td>\n",
       "      <td>65.4</td>\n",
       "    </tr>\n",
       "    <tr>\n",
       "      <th>4</th>\n",
       "      <td>Tharusha Vihanga</td>\n",
       "      <td>2</td>\n",
       "      <td>83.2</td>\n",
       "      <td>24.0</td>\n",
       "      <td>6</td>\n",
       "      <td>0</td>\n",
       "      <td>41.8</td>\n",
       "      <td>4.2</td>\n",
       "      <td>Foundations of ML</td>\n",
       "      <td>40.1</td>\n",
       "    </tr>\n",
       "    <tr>\n",
       "      <th>7</th>\n",
       "      <td>Chamath Perera</td>\n",
       "      <td>3</td>\n",
       "      <td>86.5</td>\n",
       "      <td>88.0</td>\n",
       "      <td>5</td>\n",
       "      <td>0</td>\n",
       "      <td>23.9</td>\n",
       "      <td>1.3</td>\n",
       "      <td>Foundations of ML</td>\n",
       "      <td>68.2</td>\n",
       "    </tr>\n",
       "  </tbody>\n",
       "</table>\n",
       "</div>"
      ]
     },
     "execution_count": 3,
     "metadata": {},
     "output_type": "execute_result"
    }
   ],
   "execution_count": 3
  },
  {
   "metadata": {},
   "cell_type": "markdown",
   "source": "### Load features and scale",
   "id": "d6ecc326149e412e"
  },
  {
   "metadata": {
    "ExecuteTime": {
     "end_time": "2025-08-16T04:50:54.926897Z",
     "start_time": "2025-08-16T04:50:54.923159Z"
    }
   },
   "cell_type": "code",
   "source": [
    "def min_max_scale(X):\n",
    "    X_min = np.min(X, axis=0)\n",
    "    X_max = np.max(X, axis=0)\n",
    "    X_scaled = (X - X_min) / (X_max - X_min)\n",
    "    return X_scaled, X_min, X_max"
   ],
   "id": "259b1abf15404f45",
   "outputs": [],
   "execution_count": 4
  },
  {
   "metadata": {
    "ExecuteTime": {
     "end_time": "2025-08-16T04:50:55.001987Z",
     "start_time": "2025-08-16T04:50:54.996194Z"
    }
   },
   "cell_type": "code",
   "source": [
    "X_attendance = df['Attendance'].values\n",
    "X_attendance_scaled, X_attendance_min, X_attendance_max = min_max_scale(X_attendance.reshape(-1, 1))\n",
    "\n",
    "X_study_hours = df['TotalHours'].values\n",
    "X_study_hours_scaled, X_study_hours_min, X_study_hours_max = min_max_scale(X_study_hours.reshape(-1, 1))\n",
    "\n",
    "X_assignments = df['AssignmentsCompleted'].values\n",
    "X_assignments_scaled, X_assignments_min, X_assignments_max = min_max_scale(X_assignments.reshape(-1, 1))\n",
    "\n",
    "X_quiz = df['PeerReviewScore'].values\n",
    "X_quiz_scaled, X_quiz_min, X_quiz_max = min_max_scale(X_quiz.reshape(-1, 1))\n",
    "\n",
    "X_participation = df['HackathonParticipation'].values\n",
    "X_participation_scaled, X_participation_min, X_participation_max = min_max_scale(X_participation.reshape(-1, 1))\n",
    "\n",
    "Y = df['CapstoneScore'].values\n",
    "Y_scaled, Y_min, Y_max = min_max_scale(Y.reshape(-1, 1))"
   ],
   "id": "4f8b4fcfc64b70db",
   "outputs": [],
   "execution_count": 5
  },
  {
   "metadata": {
    "ExecuteTime": {
     "end_time": "2025-08-16T04:50:55.050403Z",
     "start_time": "2025-08-16T04:50:55.047536Z"
    }
   },
   "cell_type": "code",
   "source": [
    "X = np.column_stack([\n",
    "    np.ones(len(df)),\n",
    "    X_attendance_scaled.flatten(),\n",
    "    X_study_hours_scaled.flatten(),\n",
    "    X_assignments_scaled.flatten(),\n",
    "    X_quiz_scaled.flatten(),\n",
    "    X_participation_scaled.flatten()\n",
    "])\n",
    "\n",
    "y = Y_scaled.flatten()"
   ],
   "id": "7b052cf053633ff1",
   "outputs": [],
   "execution_count": 6
  },
  {
   "metadata": {},
   "cell_type": "markdown",
   "source": [
    "### Util functions\n",
    "\n",
    "- format_value_for_printing: Format values for better readability"
   ],
   "id": "4642895e33b2c751"
  },
  {
   "metadata": {
    "ExecuteTime": {
     "end_time": "2025-08-16T04:50:55.074316Z",
     "start_time": "2025-08-16T04:50:55.070886Z"
    }
   },
   "cell_type": "code",
   "source": [
    "def format_value_for_printing(value):\n",
    "    if np.isinf(value):\n",
    "        return \"∞\"\n",
    "    elif np.isnan(value):\n",
    "        return \"NaN\"\n",
    "    else:\n",
    "        return f\"{value:.4f}\""
   ],
   "id": "581e998142457da5",
   "outputs": [],
   "execution_count": 7
  },
  {
   "metadata": {},
   "cell_type": "markdown",
   "source": [
    "### Analyzing Functions\n",
    "\n",
    "- predict: Predict the output\n",
    "- compute_cost: Calculate the cost function (Mean Squared Error)\n",
    "- compute_gradients: Calculate partial derivatives for both parameters\n",
    "- gradient_descent: Implement parameter optimization"
   ],
   "id": "3849ed223b273818"
  },
  {
   "metadata": {
    "ExecuteTime": {
     "end_time": "2025-08-16T04:50:55.101690Z",
     "start_time": "2025-08-16T04:50:55.098325Z"
    }
   },
   "cell_type": "code",
   "source": [
    "# Constants\n",
    "CONVERGENCE_THRESHOLD = 1e-6"
   ],
   "id": "24560a5050c6b68a",
   "outputs": [],
   "execution_count": 8
  },
  {
   "metadata": {
    "ExecuteTime": {
     "end_time": "2025-08-16T04:50:55.130928Z",
     "start_time": "2025-08-16T04:50:55.125036Z"
    }
   },
   "cell_type": "code",
   "source": [
    "def predict(X, beta):\n",
    "    return X @ beta\n",
    "\n",
    "def compute_cost(X, y, beta):\n",
    "    m = len(y)\n",
    "    predictions = X @ beta\n",
    "    cost = (1/(2*m)) * np.sum((predictions - y)**2)\n",
    "    return cost\n",
    "\n",
    "def compute_gradients(X, y, beta):\n",
    "    m = len(y)\n",
    "    predictions = X @ beta\n",
    "    gradients = (1/m) * X.T @ (predictions - y)\n",
    "    return gradients\n",
    "\n",
    "def gradient_descent(X, y, learning_rate):\n",
    "    n_features = X.shape[1]\n",
    "    n_iterations = 100000\n",
    "    beta = np.zeros(n_features)\n",
    "    cost_history = []\n",
    "    converged = False\n",
    "\n",
    "    for i in range(n_iterations):\n",
    "        cost = compute_cost(X, y, beta)\n",
    "        cost_history.append(cost)\n",
    "        gradients = compute_gradients(X, y, beta)\n",
    "        beta = beta - learning_rate * gradients\n",
    "\n",
    "        # Check for convergence\n",
    "        if i > 10:\n",
    "            change = abs(cost_history[-1] - cost_history[-10])\n",
    "            if change < CONVERGENCE_THRESHOLD:\n",
    "                print(f\"Converged at {i}\")\n",
    "                converged = True\n",
    "                break\n",
    "\n",
    "        # Check for non convergence\n",
    "        if np.isinf(cost):\n",
    "            print(\"Cost diverged. Exiting...\")\n",
    "            break\n",
    "\n",
    "    return beta, cost_history, converged"
   ],
   "id": "5557bc7e53de5fa0",
   "outputs": [],
   "execution_count": 9
  },
  {
   "metadata": {},
   "cell_type": "markdown",
   "source": "### Prediction",
   "id": "ddac904c6593c4ea"
  },
  {
   "metadata": {
    "ExecuteTime": {
     "end_time": "2025-08-16T04:50:56.536983Z",
     "start_time": "2025-08-16T04:50:55.169019Z"
    }
   },
   "cell_type": "code",
   "source": [
    "beta, costs, converged = gradient_descent(X, y, learning_rate=0.00001)\n",
    "predictions = predict(X, beta)"
   ],
   "id": "c79b8b4abb41f21d",
   "outputs": [
    {
     "name": "stdout",
     "output_type": "stream",
     "text": [
      "Converged at 97396\n"
     ]
    }
   ],
   "execution_count": 10
  },
  {
   "metadata": {
    "ExecuteTime": {
     "end_time": "2025-08-16T04:50:56.577240Z",
     "start_time": "2025-08-16T04:50:56.572371Z"
    }
   },
   "cell_type": "code",
   "source": [
    "print(\"\\n\" + \"=\"*130)\n",
    "print(\"LEARNING RATE ANALYSIS SUMMARY\")\n",
    "print(\"=\"*130)\n",
    "print(f\"{'Learning Rate':<15} {'β₀':<12} {'β₁':<12} {'β₂':<12} {'β₃':<12} {'β₄':<12} {'β₅':<12} {'Final Cost':<12} {'Converged':<10} {'Iterations':<12}\")\n",
    "print(\"-\"*130)\n",
    "\n",
    "print(f\"{'0.00001':<15} {format_value_for_printing(beta[0]):<12} {format_value_for_printing(beta[1]):<12} {format_value_for_printing(beta[2]):<12} {format_value_for_printing(beta[3]):<12} {format_value_for_printing(beta[4]):<12} {format_value_for_printing(beta[5]):<12} {format_value_for_printing(costs[-1]):<12} {str(converged):<10} {len(costs):<12}\")"
   ],
   "id": "bad61ac6506df569",
   "outputs": [
    {
     "name": "stdout",
     "output_type": "stream",
     "text": [
      "\n",
      "==================================================================================================================================\n",
      "LEARNING RATE ANALYSIS SUMMARY\n",
      "==================================================================================================================================\n",
      "Learning Rate   β₀           β₁           β₂           β₃           β₄           β₅           Final Cost   Converged  Iterations  \n",
      "----------------------------------------------------------------------------------------------------------------------------------\n",
      "0.00001         0.1878       0.0861       0.1597       0.0934       0.0983       0.0594       0.0239       True       97397       \n"
     ]
    }
   ],
   "execution_count": 11
  },
  {
   "metadata": {
    "ExecuteTime": {
     "end_time": "2025-08-16T04:50:56.796396Z",
     "start_time": "2025-08-16T04:50:56.601768Z"
    }
   },
   "cell_type": "code",
   "source": [
    "fig, axes = plt.subplots(1, 2, figsize=(16, 8))\n",
    "\n",
    "ax = axes[0]\n",
    "ax.plot(costs, label='Cost Function', color='blue')\n",
    "ax.set_title('Cost Function Over Iterations')\n",
    "ax.set_xlabel('Iterations')\n",
    "ax.set_ylabel('Cost')\n",
    "\n",
    "ax = axes[1]\n",
    "plt.scatter(Y_scaled, predictions, alpha=0.7)\n",
    "min_val = min(Y_scaled.min(), predictions.min())\n",
    "max_val = max(Y_scaled.max(), predictions.max())\n",
    "ax.plot([min_val, max_val], [min_val, max_val], 'r--', label='Perfect Prediction')\n",
    "ax.set_xlabel('Actual Capstone Score')\n",
    "ax.set_ylabel('Predicted Capstone Score')\n",
    "ax.set_title('Predicted vs Actual Values')\n",
    "\n",
    "plt.show()"
   ],
   "id": "2a7f32c84b7ab0d8",
   "outputs": [
    {
     "data": {
      "text/plain": [
       "<Figure size 1600x800 with 2 Axes>"
      ],
      "image/png": "[encoded data removed]"
     },
     "metadata": {},
     "output_type": "display_data"
    }
   ],
   "execution_count": 12
  },
  {
   "metadata": {},
   "cell_type": "markdown",
   "source": "### Evaluation metrics",
   "id": "64c524b41c192d68"
  },
  {
   "metadata": {
    "ExecuteTime": {
     "end_time": "2025-08-16T04:50:56.836844Z",
     "start_time": "2025-08-16T04:50:56.832902Z"
    }
   },
   "cell_type": "code",
   "source": [
    "def calculate_evaluation_metrics(y_true, y_pred):\n",
    "    mse = np.mean((y_true - y_pred)**2)\n",
    "    mae = np.mean(np.abs(y_true - y_pred))\n",
    "    rmse = np.sqrt(mse)\n",
    "    r_squared = 1 - (np.sum((y_true - y_pred)**2) / np.sum((y_true - np.mean(y_true))**2))\n",
    "\n",
    "    return mse, mae, rmse, r_squared"
   ],
   "id": "9be04c3992d8f071",
   "outputs": [],
   "execution_count": 13
  },
  {
   "metadata": {
    "ExecuteTime": {
     "end_time": "2025-08-16T04:50:56.876952Z",
     "start_time": "2025-08-16T04:50:56.871890Z"
    }
   },
   "cell_type": "code",
   "source": [
    "print(\"\\n\" + \"=\"*70)\n",
    "print(\"EVALUATION SUMMARY\")\n",
    "print(\"=\"*70)\n",
    "print(f\"{'Learning Rate':<15} {'MSE':<12} {'MAE':<12} {'RMSE':<12} {'R²':<12}\")\n",
    "print(\"-\"*70)\n",
    "\n",
    "if converged:\n",
    "    mse, mae, rmse, r_squared = calculate_evaluation_metrics(y, predictions)\n",
    "    print(f\"{'0.00001':<15} {format_value_for_printing(mse):<12} {format_value_for_printing(mae):<12} {format_value_for_printing(rmse):<12} {format_value_for_printing(r_squared):<12}\")\n",
    "else:\n",
    "    print(f\"{'0.00001':<15} {'Diverged':<12} {'Diverged':<12} {'Diverged':<12} {'Diverged':<12}\")"
   ],
   "id": "e32c1f06a8f5efae",
   "outputs": [
    {
     "name": "stdout",
     "output_type": "stream",
     "text": [
      "\n",
      "======================================================================\n",
      "EVALUATION SUMMARY\n",
      "======================================================================\n",
      "Learning Rate   MSE          MAE          RMSE         R²          \n",
      "----------------------------------------------------------------------\n",
      "0.00001         0.0478       0.1886       0.2186       0.2717      \n"
     ]
    }
   ],
   "execution_count": 14
  }
 ],
 "metadata": {
  "kernelspec": {
   "display_name": "Python 3",
   "language": "python",
   "name": "python3"
  },
  "language_info": {
   "codemirror_mode": {
    "name": "ipython",
    "version": 2
   },
   "file_extension": ".py",
   "mimetype": "text/x-python",
   "name": "python",
   "nbconvert_exporter": "python",
   "pygments_lexer": "ipython2",
   "version": "2.7.6"
  }
 },
 "nbformat": 4,
 "nbformat_minor": 5
}
