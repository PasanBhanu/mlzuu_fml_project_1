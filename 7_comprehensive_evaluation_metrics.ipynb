{
 "cells": [
  {
   "cell_type": "code",
   "id": "initial_id",
   "metadata": {
    "collapsed": true,
    "ExecuteTime": {
     "end_time": "2025-08-16T13:03:54.536145Z",
     "start_time": "2025-08-16T13:03:50.741642Z"
    }
   },
   "source": [
    "!pip install numpy\n",
    "!pip install matplotlib\n",
    "!pip install pandas"
   ],
   "outputs": [
    {
     "name": "stdout",
     "output_type": "stream",
     "text": [
      "Requirement already satisfied: numpy in c:\\users\\pasan\\appdata\\local\\programs\\python\\python311\\lib\\site-packages (2.3.1)\n"
     ]
    },
    {
     "name": "stderr",
     "output_type": "stream",
     "text": [
      "\n",
      "[notice] A new release of pip is available: 25.1.1 -> 25.2\n",
      "[notice] To update, run: python.exe -m pip install --upgrade pip\n"
     ]
    },
    {
     "name": "stdout",
     "output_type": "stream",
     "text": [
      "Requirement already satisfied: matplotlib in d:\\education\\foundations of machine learning\\assignment 1\\mlzuu_fml_project_1\\.venv\\lib\\site-packages (3.10.5)\n",
      "Requirement already satisfied: contourpy>=1.0.1 in d:\\education\\foundations of machine learning\\assignment 1\\mlzuu_fml_project_1\\.venv\\lib\\site-packages (from matplotlib) (1.3.3)\n",
      "Requirement already satisfied: cycler>=0.10 in d:\\education\\foundations of machine learning\\assignment 1\\mlzuu_fml_project_1\\.venv\\lib\\site-packages (from matplotlib) (0.12.1)\n",
      "Requirement already satisfied: fonttools>=4.22.0 in d:\\education\\foundations of machine learning\\assignment 1\\mlzuu_fml_project_1\\.venv\\lib\\site-packages (from matplotlib) (4.59.1)\n",
      "Requirement already satisfied: kiwisolver>=1.3.1 in d:\\education\\foundations of machine learning\\assignment 1\\mlzuu_fml_project_1\\.venv\\lib\\site-packages (from matplotlib) (1.4.9)\n",
      "Requirement already satisfied: numpy>=1.23 in c:\\users\\pasan\\appdata\\local\\programs\\python\\python311\\lib\\site-packages (from matplotlib) (2.3.1)\n",
      "Requirement already satisfied: packaging>=20.0 in d:\\education\\foundations of machine learning\\assignment 1\\mlzuu_fml_project_1\\.venv\\lib\\site-packages (from matplotlib) (25.0)\n",
      "Requirement already satisfied: pillow>=8 in d:\\education\\foundations of machine learning\\assignment 1\\mlzuu_fml_project_1\\.venv\\lib\\site-packages (from matplotlib) (11.3.0)\n",
      "Requirement already satisfied: pyparsing>=2.3.1 in d:\\education\\foundations of machine learning\\assignment 1\\mlzuu_fml_project_1\\.venv\\lib\\site-packages (from matplotlib) (3.2.3)\n",
      "Requirement already satisfied: python-dateutil>=2.7 in d:\\education\\foundations of machine learning\\assignment 1\\mlzuu_fml_project_1\\.venv\\lib\\site-packages (from matplotlib) (2.9.0.post0)\n",
      "Requirement already satisfied: six>=1.5 in d:\\education\\foundations of machine learning\\assignment 1\\mlzuu_fml_project_1\\.venv\\lib\\site-packages (from python-dateutil>=2.7->matplotlib) (1.17.0)\n"
     ]
    },
    {
     "name": "stderr",
     "output_type": "stream",
     "text": [
      "\n",
      "[notice] A new release of pip is available: 25.1.1 -> 25.2\n",
      "[notice] To update, run: python.exe -m pip install --upgrade pip\n"
     ]
    },
    {
     "name": "stdout",
     "output_type": "stream",
     "text": [
      "Requirement already satisfied: pandas in d:\\education\\foundations of machine learning\\assignment 1\\mlzuu_fml_project_1\\.venv\\lib\\site-packages (2.3.1)\n",
      "Requirement already satisfied: numpy>=1.23.2 in c:\\users\\pasan\\appdata\\local\\programs\\python\\python311\\lib\\site-packages (from pandas) (2.3.1)\n",
      "Requirement already satisfied: python-dateutil>=2.8.2 in d:\\education\\foundations of machine learning\\assignment 1\\mlzuu_fml_project_1\\.venv\\lib\\site-packages (from pandas) (2.9.0.post0)\n",
      "Requirement already satisfied: pytz>=2020.1 in d:\\education\\foundations of machine learning\\assignment 1\\mlzuu_fml_project_1\\.venv\\lib\\site-packages (from pandas) (2025.2)\n",
      "Requirement already satisfied: tzdata>=2022.7 in d:\\education\\foundations of machine learning\\assignment 1\\mlzuu_fml_project_1\\.venv\\lib\\site-packages (from pandas) (2025.2)\n",
      "Requirement already satisfied: six>=1.5 in d:\\education\\foundations of machine learning\\assignment 1\\mlzuu_fml_project_1\\.venv\\lib\\site-packages (from python-dateutil>=2.8.2->pandas) (1.17.0)\n"
     ]
    },
    {
     "name": "stderr",
     "output_type": "stream",
     "text": [
      "\n",
      "[notice] A new release of pip is available: 25.1.1 -> 25.2\n",
      "[notice] To update, run: python.exe -m pip install --upgrade pip\n"
     ]
    }
   ],
   "execution_count": 1
  },
  {
   "metadata": {
    "ExecuteTime": {
     "end_time": "2025-08-16T13:03:55.355154Z",
     "start_time": "2025-08-16T13:03:54.744193Z"
    }
   },
   "cell_type": "code",
   "source": [
    "import pandas as pd\n",
    "import numpy as np\n",
    "import matplotlib.pyplot as plt"
   ],
   "id": "3504df5b7e97bf2a",
   "outputs": [],
   "execution_count": 2
  },
  {
   "metadata": {},
   "cell_type": "markdown",
   "source": [
    "### Load CSV\n",
    "\n",
    "- Load the CSV file containing the scores data\n",
    "- Filter the data to include only the \"Foundations of ML\" course"
   ],
   "id": "3f9c598183d0553c"
  },
  {
   "metadata": {
    "ExecuteTime": {
     "end_time": "2025-08-16T13:03:55.379849Z",
     "start_time": "2025-08-16T13:03:55.363939Z"
    }
   },
   "cell_type": "code",
   "source": [
    "df = pd.read_csv('data/raw/scores.csv')\n",
    "df = df[df['CourseName'] == 'Foundations of ML']\n",
    "df.head()"
   ],
   "id": "2b850c5b7581ddd9",
   "outputs": [
    {
     "data": {
      "text/plain": [
       "                       MemberName  EducationLevel  Attendance  TotalHours  \\\n",
       "0           Theekshana Rathnayake               3        79.9        43.7   \n",
       "1  Mayura Sandakalum Sellapperuma               2        76.8        95.6   \n",
       "2                 Amila Narangoda               3        96.6        75.9   \n",
       "4                Tharusha Vihanga               2        83.2        24.0   \n",
       "7                  Chamath Perera               3        86.5        88.0   \n",
       "\n",
       "   AssignmentsCompleted  HackathonParticipation  GitHubScore  PeerReviewScore  \\\n",
       "0                     2                       0         62.8              5.0   \n",
       "1                     6                       0         87.4              2.7   \n",
       "2                     8                       0         98.4              2.8   \n",
       "4                     6                       0         41.8              4.2   \n",
       "7                     5                       0         23.9              1.3   \n",
       "\n",
       "          CourseName  CapstoneScore  \n",
       "0  Foundations of ML           45.3  \n",
       "1  Foundations of ML           78.8  \n",
       "2  Foundations of ML           65.4  \n",
       "4  Foundations of ML           40.1  \n",
       "7  Foundations of ML           68.2  "
      ],
      "text/html": [
       "<div>\n",
       "<style scoped>\n",
       "    .dataframe tbody tr th:only-of-type {\n",
       "        vertical-align: middle;\n",
       "    }\n",
       "\n",
       "    .dataframe tbody tr th {\n",
       "        vertical-align: top;\n",
       "    }\n",
       "\n",
       "    .dataframe thead th {\n",
       "        text-align: right;\n",
       "    }\n",
       "</style>\n",
       "<table border=\"1\" class=\"dataframe\">\n",
       "  <thead>\n",
       "    <tr style=\"text-align: right;\">\n",
       "      <th></th>\n",
       "      <th>MemberName</th>\n",
       "      <th>EducationLevel</th>\n",
       "      <th>Attendance</th>\n",
       "      <th>TotalHours</th>\n",
       "      <th>AssignmentsCompleted</th>\n",
       "      <th>HackathonParticipation</th>\n",
       "      <th>GitHubScore</th>\n",
       "      <th>PeerReviewScore</th>\n",
       "      <th>CourseName</th>\n",
       "      <th>CapstoneScore</th>\n",
       "    </tr>\n",
       "  </thead>\n",
       "  <tbody>\n",
       "    <tr>\n",
       "      <th>0</th>\n",
       "      <td>Theekshana Rathnayake</td>\n",
       "      <td>3</td>\n",
       "      <td>79.9</td>\n",
       "      <td>43.7</td>\n",
       "      <td>2</td>\n",
       "      <td>0</td>\n",
       "      <td>62.8</td>\n",
       "      <td>5.0</td>\n",
       "      <td>Foundations of ML</td>\n",
       "      <td>45.3</td>\n",
       "    </tr>\n",
       "    <tr>\n",
       "      <th>1</th>\n",
       "      <td>Mayura Sandakalum Sellapperuma</td>\n",
       "      <td>2</td>\n",
       "      <td>76.8</td>\n",
       "      <td>95.6</td>\n",
       "      <td>6</td>\n",
       "      <td>0</td>\n",
       "      <td>87.4</td>\n",
       "      <td>2.7</td>\n",
       "      <td>Foundations of ML</td>\n",
       "      <td>78.8</td>\n",
       "    </tr>\n",
       "    <tr>\n",
       "      <th>2</th>\n",
       "      <td>Amila Narangoda</td>\n",
       "      <td>3</td>\n",
       "      <td>96.6</td>\n",
       "      <td>75.9</td>\n",
       "      <td>8</td>\n",
       "      <td>0</td>\n",
       "      <td>98.4</td>\n",
       "      <td>2.8</td>\n",
       "      <td>Foundations of ML</td>\n",
       "      <td>65.4</td>\n",
       "    </tr>\n",
       "    <tr>\n",
       "      <th>4</th>\n",
       "      <td>Tharusha Vihanga</td>\n",
       "      <td>2</td>\n",
       "      <td>83.2</td>\n",
       "      <td>24.0</td>\n",
       "      <td>6</td>\n",
       "      <td>0</td>\n",
       "      <td>41.8</td>\n",
       "      <td>4.2</td>\n",
       "      <td>Foundations of ML</td>\n",
       "      <td>40.1</td>\n",
       "    </tr>\n",
       "    <tr>\n",
       "      <th>7</th>\n",
       "      <td>Chamath Perera</td>\n",
       "      <td>3</td>\n",
       "      <td>86.5</td>\n",
       "      <td>88.0</td>\n",
       "      <td>5</td>\n",
       "      <td>0</td>\n",
       "      <td>23.9</td>\n",
       "      <td>1.3</td>\n",
       "      <td>Foundations of ML</td>\n",
       "      <td>68.2</td>\n",
       "    </tr>\n",
       "  </tbody>\n",
       "</table>\n",
       "</div>"
      ]
     },
     "execution_count": 3,
     "metadata": {},
     "output_type": "execute_result"
    }
   ],
   "execution_count": 3
  },
  {
   "metadata": {},
   "cell_type": "markdown",
   "source": "### Load features and scale",
   "id": "bc54dbb7d52c2d21"
  },
  {
   "metadata": {
    "ExecuteTime": {
     "end_time": "2025-08-16T13:03:55.427330Z",
     "start_time": "2025-08-16T13:03:55.423163Z"
    }
   },
   "cell_type": "code",
   "source": [
    "def min_max_scale(X):\n",
    "    X_min = np.min(X, axis=0)\n",
    "    X_max = np.max(X, axis=0)\n",
    "    X_scaled = (X - X_min) / (X_max - X_min)\n",
    "    return X_scaled, X_min, X_max"
   ],
   "id": "aff3ef8f0d2063a",
   "outputs": [],
   "execution_count": 4
  },
  {
   "metadata": {
    "ExecuteTime": {
     "end_time": "2025-08-16T13:03:55.472862Z",
     "start_time": "2025-08-16T13:03:55.466191Z"
    }
   },
   "cell_type": "code",
   "source": [
    "X_attendance = df['Attendance'].values\n",
    "X_attendance_scaled, X_attendance_min, X_attendance_max = min_max_scale(X_attendance.reshape(-1, 1))\n",
    "\n",
    "X_study_hours = df['TotalHours'].values\n",
    "X_study_hours_scaled, X_study_hours_min, X_study_hours_max = min_max_scale(X_study_hours.reshape(-1, 1))\n",
    "\n",
    "X_assignments = df['AssignmentsCompleted'].values\n",
    "X_assignments_scaled, X_assignments_min, X_assignments_max = min_max_scale(X_assignments.reshape(-1, 1))\n",
    "\n",
    "X_quiz = df['PeerReviewScore'].values\n",
    "X_quiz_scaled, X_quiz_min, X_quiz_max = min_max_scale(X_quiz.reshape(-1, 1))\n",
    "\n",
    "X_participation = df['HackathonParticipation'].values\n",
    "X_participation_scaled, X_participation_min, X_participation_max = min_max_scale(X_participation.reshape(-1, 1))"
   ],
   "id": "b4114b406dabe321",
   "outputs": [],
   "execution_count": 5
  },
  {
   "metadata": {
    "ExecuteTime": {
     "end_time": "2025-08-16T13:03:55.540541Z",
     "start_time": "2025-08-16T13:03:55.532922Z"
    }
   },
   "cell_type": "code",
   "source": [
    "X = np.column_stack([\n",
    "    np.ones(len(df)),\n",
    "    X_attendance_scaled.flatten(),\n",
    "    X_study_hours_scaled.flatten(),\n",
    "    X_assignments_scaled.flatten(),\n",
    "    X_quiz_scaled.flatten(),\n",
    "    X_participation_scaled.flatten()\n",
    "])\n",
    "\n",
    "y = (df['CapstoneScore'] >= 75).astype(int)"
   ],
   "id": "f48cf3e21c7a78f",
   "outputs": [],
   "execution_count": 6
  },
  {
   "metadata": {},
   "cell_type": "markdown",
   "source": [
    "### Util functions\n",
    "\n",
    "- format_value_for_printing: Format values for better readability"
   ],
   "id": "be5580bb640c69c5"
  },
  {
   "metadata": {
    "ExecuteTime": {
     "end_time": "2025-08-16T13:03:55.579016Z",
     "start_time": "2025-08-16T13:03:55.576061Z"
    }
   },
   "cell_type": "code",
   "source": [
    "def format_value_for_printing(value):\n",
    "    if np.isinf(value):\n",
    "        return \"∞\"\n",
    "    elif np.isnan(value):\n",
    "        return \"NaN\"\n",
    "    else:\n",
    "        return f\"{value:.4f}\""
   ],
   "id": "7cf2296f3bf90be5",
   "outputs": [],
   "execution_count": 7
  },
  {
   "metadata": {},
   "cell_type": "markdown",
   "source": "### Analyzing Functions",
   "id": "5ec59bc3e5ecbf7"
  },
  {
   "metadata": {
    "ExecuteTime": {
     "end_time": "2025-08-16T13:03:55.605320Z",
     "start_time": "2025-08-16T13:03:55.601289Z"
    }
   },
   "cell_type": "code",
   "source": [
    "# Constants\n",
    "CONVERGENCE_THRESHOLD = 1e-6"
   ],
   "id": "66fc2302eba42ca0",
   "outputs": [],
   "execution_count": 8
  },
  {
   "metadata": {
    "ExecuteTime": {
     "end_time": "2025-08-16T13:03:55.641605Z",
     "start_time": "2025-08-16T13:03:55.633950Z"
    }
   },
   "cell_type": "code",
   "source": [
    "def sigmoid(z):\n",
    "    return 1 / (1 + np.exp(-z))\n",
    "\n",
    "def compute_logistic_cost(X, y, theta):\n",
    "    m = len(y)\n",
    "    z = X @ theta\n",
    "    h = sigmoid(z)\n",
    "\n",
    "    epsilon = 1e-15\n",
    "    h = np.clip(h, epsilon, 1 - epsilon)\n",
    "    cost = -(1/m) * np.sum(y * np.log(h) + (1 - y) * np.log(1 - h))\n",
    "\n",
    "    return cost\n",
    "\n",
    "def compute_logistic_gradients(X, y, theta):\n",
    "    m = len(y)\n",
    "    z = X @ theta\n",
    "    h = sigmoid(z)\n",
    "\n",
    "    gradients = (1/m) * X.T @ (h - y)\n",
    "    return gradients\n",
    "\n",
    "def logistic_gradient_descent(X, y, learning_rate):\n",
    "    n_features = X.shape[1]\n",
    "    theta = np.random.normal(0, 0.01, n_features)\n",
    "    n_iterations = 100000\n",
    "    cost_history = []\n",
    "    converged = False\n",
    "\n",
    "    for i in range(n_iterations):\n",
    "        cost = compute_logistic_cost(X, y, theta)\n",
    "        cost_history.append(cost)\n",
    "\n",
    "        gradients = compute_logistic_gradients(X, y, theta)\n",
    "\n",
    "        theta = theta - learning_rate * gradients\n",
    "\n",
    "        # Check for convergence\n",
    "        if i > 10:\n",
    "            change = abs(cost_history[-1] - cost_history[-10])\n",
    "            if change < CONVERGENCE_THRESHOLD:\n",
    "                print(f\"Converged at {i}\")\n",
    "                converged = True\n",
    "                break\n",
    "\n",
    "        # Check for non convergence\n",
    "        if np.isinf(cost):\n",
    "            print(\"Cost diverged. Exiting...\")\n",
    "            break\n",
    "\n",
    "    return theta, cost_history, converged\n",
    "\n",
    "def predict_proba(X, theta):\n",
    "    z = X @ theta\n",
    "    return sigmoid(z)\n",
    "\n",
    "def predict_class(X, theta, threshold=0.5):\n",
    "    probabilities = predict_proba(X, theta)\n",
    "    return (probabilities >= threshold).astype(int)"
   ],
   "id": "bb069b139c51830b",
   "outputs": [],
   "execution_count": 9
  },
  {
   "metadata": {},
   "cell_type": "markdown",
   "source": "### Prediction",
   "id": "6d91a07ab5524eac"
  },
  {
   "metadata": {
    "ExecuteTime": {
     "end_time": "2025-08-16T13:05:06.004330Z",
     "start_time": "2025-08-16T13:03:55.669074Z"
    }
   },
   "cell_type": "code",
   "source": [
    "thresholds = [0.3, 0.5, 0.7]\n",
    "results = {}\n",
    "\n",
    "for threshold in thresholds:\n",
    "    theta, costs, converged = logistic_gradient_descent(X, y, learning_rate=0.1)\n",
    "\n",
    "    y_prob = predict_proba(X, theta)\n",
    "    y_pred = predict_class(X, theta, threshold=threshold)\n",
    "\n",
    "    results[threshold] = {\n",
    "        'theta': theta,\n",
    "        'costs': costs,\n",
    "        'converged': converged,\n",
    "        'y_prob': y_prob,\n",
    "        'y_pred': y_pred,\n",
    "        'final_cost': costs[-1],\n",
    "        'iterations': len(costs)\n",
    "    }"
   ],
   "id": "337718c47599f50b",
   "outputs": [
    {
     "name": "stdout",
     "output_type": "stream",
     "text": [
      "Converged at 83291\n",
      "Converged at 83293\n",
      "Converged at 83293\n"
     ]
    }
   ],
   "execution_count": 10
  },
  {
   "metadata": {},
   "cell_type": "markdown",
   "source": "### Summary of analysis",
   "id": "b29c9cb3a386f498"
  },
  {
   "metadata": {
    "ExecuteTime": {
     "end_time": "2025-08-16T13:05:06.036643Z",
     "start_time": "2025-08-16T13:05:06.031976Z"
    }
   },
   "cell_type": "code",
   "source": [
    "print(\"\\n\" + \"=\"*60)\n",
    "print(\"THRESHOLD ANALYSIS SUMMARY\")\n",
    "print(\"=\"*60)\n",
    "print(f\"{'Threshold':<15} {'Final Cost':<12} {'Converged':<10} {'Iterations':<12}\")\n",
    "print(\"-\"*60)\n",
    "\n",
    "for threshold in thresholds:\n",
    "    r = results[threshold]\n",
    "    print(f\"{threshold:<15} {format_value_for_printing(r['final_cost']):<12} {str(r['converged']):<10} {r['iterations']:<12}\")"
   ],
   "id": "8feec67822a2560a",
   "outputs": [
    {
     "name": "stdout",
     "output_type": "stream",
     "text": [
      "\n",
      "============================================================\n",
      "THRESHOLD ANALYSIS SUMMARY\n",
      "============================================================\n",
      "Threshold       Final Cost   Converged  Iterations  \n",
      "------------------------------------------------------------\n",
      "0.3             0.0873       True       83292       \n",
      "0.5             0.0873       True       83294       \n",
      "0.7             0.0873       True       83294       \n"
     ]
    }
   ],
   "execution_count": 11
  },
  {
   "metadata": {},
   "cell_type": "markdown",
   "source": "### Visualize results",
   "id": "6cf6721d15ad55ac"
  },
  {
   "metadata": {
    "ExecuteTime": {
     "end_time": "2025-08-16T13:05:06.513090Z",
     "start_time": "2025-08-16T13:05:06.055019Z"
    }
   },
   "cell_type": "code",
   "source": [
    "fig, axes = plt.subplots(1, 3, figsize=(16, 8))\n",
    "\n",
    "for col in range(3):\n",
    "    ax = axes[col]\n",
    "    threshold = thresholds[col]\n",
    "    costs = results[threshold]['costs']\n",
    "\n",
    "    ax.plot(costs, label=f'Threshold: {threshold}')\n",
    "    ax.set_title(f'Cost History for Threshold {threshold}')\n",
    "    ax.set_xlabel('Iterations')\n",
    "    ax.set_ylabel('Cost')\n",
    "    ax.legend()\n",
    "    ax.grid()"
   ],
   "id": "fb119d3c6ae53dd8",
   "outputs": [
    {
     "data": {
      "text/plain": [
       "<Figure size 1600x800 with 3 Axes>"
      ],
      "image/png": "[encoded data removed]"
     },
     "metadata": {},
     "output_type": "display_data"
    }
   ],
   "execution_count": 12
  },
  {
   "metadata": {},
   "cell_type": "markdown",
   "source": "### Evaluation metrics",
   "id": "aa0fffa384b663b0"
  },
  {
   "metadata": {
    "ExecuteTime": {
     "end_time": "2025-08-16T13:05:06.550958Z",
     "start_time": "2025-08-16T13:05:06.546541Z"
    }
   },
   "cell_type": "code",
   "source": [
    "def calculate_evaluation_metrics(y_true, y_pred):\n",
    "    accuracy = np.mean(y_true == y_pred)\n",
    "    tp = np.sum((y_true == 1) & (y_pred == 1))\n",
    "    fp = np.sum((y_true == 0) & (y_pred == 1))\n",
    "    tn = np.sum((y_true == 0) & (y_pred == 0))\n",
    "    fn = np.sum((y_true == 1) & (y_pred == 0))\n",
    "\n",
    "    precision = tp / (tp + fp) if (tp + fp) > 0 else 0\n",
    "    recall = tp / (tp + fn) if (tp + fn) > 0 else 0\n",
    "    f1 = 2 * (precision * recall) / (precision + recall) if (precision + recall) > 0 else 0\n",
    "\n",
    "    return accuracy, tp, fp, tn, fn, precision, recall, f1"
   ],
   "id": "f49e032a49282a9b",
   "outputs": [],
   "execution_count": 13
  },
  {
   "metadata": {
    "ExecuteTime": {
     "end_time": "2025-08-16T13:05:06.569180Z",
     "start_time": "2025-08-16T13:05:06.561904Z"
    }
   },
   "cell_type": "code",
   "source": [
    "print(\"\\n\" + \"=\"*70)\n",
    "print(\"EVALUATION SUMMARY\")\n",
    "print(\"=\"*70)\n",
    "print(f\"{'Threshold':<15} {'Accuracy':<12} {'Precision':<12} {'Recall':<12} {'F1':<12}\")\n",
    "print(\"-\"*70)\n",
    "\n",
    "evaluations = {}\n",
    "\n",
    "for threshold in thresholds:\n",
    "    r = results[threshold]\n",
    "    accuracy, tp, fp, tn, fn, precision, recall, f1 = calculate_evaluation_metrics(y, r['y_pred'])\n",
    "    print(f\"{threshold:<15} {format_value_for_printing(accuracy):<12} {format_value_for_printing(precision):<12} {format_value_for_printing(recall):<12} {format_value_for_printing(f1):<12}\")\n",
    "\n",
    "    evaluations[threshold] = {\n",
    "        'accuracy': accuracy,\n",
    "        'tp': tp,\n",
    "        'fp': fp,\n",
    "        'tn': tn,\n",
    "        'fn': fn,\n",
    "        'precision': precision,\n",
    "        'recall': recall,\n",
    "        'f1': f1\n",
    "    }"
   ],
   "id": "9cdb0a03d1eb32f6",
   "outputs": [
    {
     "name": "stdout",
     "output_type": "stream",
     "text": [
      "\n",
      "======================================================================\n",
      "EVALUATION SUMMARY\n",
      "======================================================================\n",
      "Threshold       Accuracy     Precision    Recall       F1          \n",
      "----------------------------------------------------------------------\n",
      "0.3             0.9444       0.7857       0.9167       0.8462      \n",
      "0.5             0.9583       0.8462       0.9167       0.8800      \n",
      "0.7             0.9861       1.0000       0.9167       0.9565      \n"
     ]
    }
   ],
   "execution_count": 14
  },
  {
   "metadata": {},
   "cell_type": "markdown",
   "source": "#### Confusion Matrix",
   "id": "371eb525482b10cb"
  },
  {
   "metadata": {
    "ExecuteTime": {
     "end_time": "2025-08-16T13:05:06.778537Z",
     "start_time": "2025-08-16T13:05:06.602594Z"
    }
   },
   "cell_type": "code",
   "source": [
    "fig, axes = plt.subplots(1, 3, figsize=(16, 8))\n",
    "\n",
    "for col in range(3):\n",
    "    ax = axes[col]\n",
    "    threshold = thresholds[col]\n",
    "    cm = np.array([evaluations[threshold]['tp'], evaluations[threshold]['fp'],\n",
    "                   evaluations[threshold]['fn'], evaluations[threshold]['tn']]).reshape(2, 2)\n",
    "\n",
    "    ax.imshow(cm, interpolation='nearest', cmap='Blues')\n",
    "    ax.set_title(f'Confusion Matrix {threshold}')\n",
    "    ax.text(0, 0, evaluations[threshold]['tn'], ha='center', va='center', fontsize=14)\n",
    "    ax.text(1, 0, evaluations[threshold]['fp'], ha='center', va='center', fontsize=14)\n",
    "    ax.text(0, 1, evaluations[threshold]['fn'], ha='center', va='center', fontsize=14)\n",
    "    ax.text(1, 1, evaluations[threshold]['tp'], ha='center', va='center', fontsize=14)\n",
    "\n",
    "    labels = ['0', '1']\n",
    "    tick_marks = np.arange(2)\n",
    "    ax.set_xticks(tick_marks, labels)\n",
    "    ax.set_yticks(tick_marks, labels)"
   ],
   "id": "a2cb1796995be90d",
   "outputs": [
    {
     "data": {
      "text/plain": [
       "<Figure size 1600x800 with 3 Axes>"
      ],
      "image/png": "[encoded data removed]"
     },
     "metadata": {},
     "output_type": "display_data"
    }
   ],
   "execution_count": 15
  },
  {
   "metadata": {
    "ExecuteTime": {
     "end_time": "2025-08-16T13:05:06.785837Z",
     "start_time": "2025-08-16T13:05:06.783068Z"
    }
   },
   "cell_type": "code",
   "source": "",
   "id": "5e2c6a91c1f0e17f",
   "outputs": [],
   "execution_count": null
  }
 ],
 "metadata": {
  "kernelspec": {
   "display_name": "Python 3",
   "language": "python",
   "name": "python3"
  },
  "language_info": {
   "codemirror_mode": {
    "name": "ipython",
    "version": 2
   },
   "file_extension": ".py",
   "mimetype": "text/x-python",
   "name": "python",
   "nbconvert_exporter": "python",
   "pygments_lexer": "ipython2",
   "version": "2.7.6"
  }
 },
 "nbformat": 4,
 "nbformat_minor": 5
}
